{
 "cells": [
  {
   "cell_type": "code",
   "execution_count": 1,
   "id": "14e6a8d1",
   "metadata": {},
   "outputs": [
    {
     "ename": "ImportError",
     "evalue": "DLL load failed while importing ft2font: The specified module could not be found.",
     "output_type": "error",
     "traceback": [
      "\u001b[1;31m---------------------------------------------------------------------------\u001b[0m",
      "\u001b[1;31mImportError\u001b[0m                               Traceback (most recent call last)",
      "Cell \u001b[1;32mIn[1], line 3\u001b[0m\n\u001b[0;32m      1\u001b[0m \u001b[38;5;28;01mimport\u001b[39;00m \u001b[38;5;21;01mpandas\u001b[39;00m \u001b[38;5;28;01mas\u001b[39;00m \u001b[38;5;21;01mpd\u001b[39;00m\n\u001b[0;32m      2\u001b[0m \u001b[38;5;28;01mimport\u001b[39;00m \u001b[38;5;21;01mnumpy\u001b[39;00m \u001b[38;5;28;01mas\u001b[39;00m \u001b[38;5;21;01mnp\u001b[39;00m\n\u001b[1;32m----> 3\u001b[0m \u001b[38;5;28;01mimport\u001b[39;00m \u001b[38;5;21;01mmatplotlib\u001b[39;00m\n\u001b[0;32m      4\u001b[0m matplotlib\u001b[38;5;241m.\u001b[39mfont_manager\u001b[38;5;241m.\u001b[39m_rebuild()\n\u001b[0;32m      5\u001b[0m \u001b[38;5;66;03m#import matplotlib \u001b[39;00m\n",
      "File \u001b[1;32m~\\anaconda3\\Lib\\site-packages\\matplotlib\\__init__.py:263\u001b[0m\n\u001b[0;32m    258\u001b[0m         \u001b[38;5;28;01mif\u001b[39;00m parse_version(module\u001b[38;5;241m.\u001b[39m__version__) \u001b[38;5;241m<\u001b[39m parse_version(minver):\n\u001b[0;32m    259\u001b[0m             \u001b[38;5;28;01mraise\u001b[39;00m \u001b[38;5;167;01mImportError\u001b[39;00m(\u001b[38;5;124mf\u001b[39m\u001b[38;5;124m\"\u001b[39m\u001b[38;5;124mMatplotlib requires \u001b[39m\u001b[38;5;132;01m{\u001b[39;00mmodname\u001b[38;5;132;01m}\u001b[39;00m\u001b[38;5;124m>=\u001b[39m\u001b[38;5;132;01m{\u001b[39;00mminver\u001b[38;5;132;01m}\u001b[39;00m\u001b[38;5;124m; \u001b[39m\u001b[38;5;124m\"\u001b[39m\n\u001b[0;32m    260\u001b[0m                               \u001b[38;5;124mf\u001b[39m\u001b[38;5;124m\"\u001b[39m\u001b[38;5;124myou have \u001b[39m\u001b[38;5;132;01m{\u001b[39;00mmodule\u001b[38;5;241m.\u001b[39m__version__\u001b[38;5;132;01m}\u001b[39;00m\u001b[38;5;124m\"\u001b[39m)\n\u001b[1;32m--> 263\u001b[0m _check_versions()\n\u001b[0;32m    266\u001b[0m \u001b[38;5;66;03m# The decorator ensures this always returns the same handler (and it is only\u001b[39;00m\n\u001b[0;32m    267\u001b[0m \u001b[38;5;66;03m# attached once).\u001b[39;00m\n\u001b[0;32m    268\u001b[0m \u001b[38;5;129m@functools\u001b[39m\u001b[38;5;241m.\u001b[39mcache\n\u001b[0;32m    269\u001b[0m \u001b[38;5;28;01mdef\u001b[39;00m \u001b[38;5;21m_ensure_handler\u001b[39m():\n",
      "File \u001b[1;32m~\\anaconda3\\Lib\\site-packages\\matplotlib\\__init__.py:248\u001b[0m, in \u001b[0;36m_check_versions\u001b[1;34m()\u001b[0m\n\u001b[0;32m    244\u001b[0m \u001b[38;5;28;01mdef\u001b[39;00m \u001b[38;5;21m_check_versions\u001b[39m():\n\u001b[0;32m    245\u001b[0m \n\u001b[0;32m    246\u001b[0m     \u001b[38;5;66;03m# Quickfix to ensure Microsoft Visual C++ redistributable\u001b[39;00m\n\u001b[0;32m    247\u001b[0m     \u001b[38;5;66;03m# DLLs are loaded before importing kiwisolver\u001b[39;00m\n\u001b[1;32m--> 248\u001b[0m     \u001b[38;5;28;01mfrom\u001b[39;00m \u001b[38;5;21;01m.\u001b[39;00m \u001b[38;5;28;01mimport\u001b[39;00m ft2font  \u001b[38;5;66;03m# noqa: F401\u001b[39;00m\n\u001b[0;32m    250\u001b[0m     \u001b[38;5;28;01mfor\u001b[39;00m modname, minver \u001b[38;5;129;01min\u001b[39;00m [\n\u001b[0;32m    251\u001b[0m             (\u001b[38;5;124m\"\u001b[39m\u001b[38;5;124mcycler\u001b[39m\u001b[38;5;124m\"\u001b[39m, \u001b[38;5;124m\"\u001b[39m\u001b[38;5;124m0.10\u001b[39m\u001b[38;5;124m\"\u001b[39m),\n\u001b[0;32m    252\u001b[0m             (\u001b[38;5;124m\"\u001b[39m\u001b[38;5;124mdateutil\u001b[39m\u001b[38;5;124m\"\u001b[39m, \u001b[38;5;124m\"\u001b[39m\u001b[38;5;124m2.7\u001b[39m\u001b[38;5;124m\"\u001b[39m),\n\u001b[1;32m   (...)\u001b[0m\n\u001b[0;32m    255\u001b[0m             (\u001b[38;5;124m\"\u001b[39m\u001b[38;5;124mpyparsing\u001b[39m\u001b[38;5;124m\"\u001b[39m, \u001b[38;5;124m\"\u001b[39m\u001b[38;5;124m2.3.1\u001b[39m\u001b[38;5;124m\"\u001b[39m),\n\u001b[0;32m    256\u001b[0m     ]:\n\u001b[0;32m    257\u001b[0m         module \u001b[38;5;241m=\u001b[39m importlib\u001b[38;5;241m.\u001b[39mimport_module(modname)\n",
      "\u001b[1;31mImportError\u001b[0m: DLL load failed while importing ft2font: The specified module could not be found."
     ]
    }
   ],
   "source": [
    "import pandas as pd\n",
    "import numpy as np\n",
    "import matplotlib\n",
    "matplotlib.font_manager._rebuild()\n",
    "#import matplotlib \n",
    "import matplotlib.pyplot as plt\n",
    "%matplotlib inline\n",
    "matplotlib.rcParams[\"figure.figsize\"] = (20,10)\n"
   ]
  },
  {
   "cell_type": "code",
   "execution_count": 43,
   "id": "b9c08f67",
   "metadata": {},
   "outputs": [
    {
     "data": {
      "text/html": [
       "<div>\n",
       "<style scoped>\n",
       "    .dataframe tbody tr th:only-of-type {\n",
       "        vertical-align: middle;\n",
       "    }\n",
       "\n",
       "    .dataframe tbody tr th {\n",
       "        vertical-align: top;\n",
       "    }\n",
       "\n",
       "    .dataframe thead th {\n",
       "        text-align: right;\n",
       "    }\n",
       "</style>\n",
       "<table border=\"1\" class=\"dataframe\">\n",
       "  <thead>\n",
       "    <tr style=\"text-align: right;\">\n",
       "      <th></th>\n",
       "      <th>bhk</th>\n",
       "      <th>type</th>\n",
       "      <th>locality</th>\n",
       "      <th>area</th>\n",
       "      <th>price</th>\n",
       "      <th>price_unit</th>\n",
       "      <th>region</th>\n",
       "      <th>status</th>\n",
       "      <th>age</th>\n",
       "    </tr>\n",
       "  </thead>\n",
       "  <tbody>\n",
       "    <tr>\n",
       "      <th>0</th>\n",
       "      <td>3</td>\n",
       "      <td>Apartment</td>\n",
       "      <td>Lak And Hanware The Residency Tower</td>\n",
       "      <td>685</td>\n",
       "      <td>2.50</td>\n",
       "      <td>Cr</td>\n",
       "      <td>Andheri West</td>\n",
       "      <td>Ready to move</td>\n",
       "      <td>New</td>\n",
       "    </tr>\n",
       "    <tr>\n",
       "      <th>1</th>\n",
       "      <td>2</td>\n",
       "      <td>Apartment</td>\n",
       "      <td>Radheya Sai Enclave Building No 2</td>\n",
       "      <td>640</td>\n",
       "      <td>52.51</td>\n",
       "      <td>L</td>\n",
       "      <td>Naigaon East</td>\n",
       "      <td>Under Construction</td>\n",
       "      <td>New</td>\n",
       "    </tr>\n",
       "    <tr>\n",
       "      <th>2</th>\n",
       "      <td>2</td>\n",
       "      <td>Apartment</td>\n",
       "      <td>Romell Serene</td>\n",
       "      <td>610</td>\n",
       "      <td>1.73</td>\n",
       "      <td>Cr</td>\n",
       "      <td>Borivali West</td>\n",
       "      <td>Under Construction</td>\n",
       "      <td>New</td>\n",
       "    </tr>\n",
       "    <tr>\n",
       "      <th>3</th>\n",
       "      <td>2</td>\n",
       "      <td>Apartment</td>\n",
       "      <td>Soundlines Codename Urban Rainforest</td>\n",
       "      <td>876</td>\n",
       "      <td>59.98</td>\n",
       "      <td>L</td>\n",
       "      <td>Panvel</td>\n",
       "      <td>Under Construction</td>\n",
       "      <td>New</td>\n",
       "    </tr>\n",
       "    <tr>\n",
       "      <th>4</th>\n",
       "      <td>2</td>\n",
       "      <td>Apartment</td>\n",
       "      <td>Origin Oriana</td>\n",
       "      <td>659</td>\n",
       "      <td>94.11</td>\n",
       "      <td>L</td>\n",
       "      <td>Mira Road East</td>\n",
       "      <td>Under Construction</td>\n",
       "      <td>New</td>\n",
       "    </tr>\n",
       "  </tbody>\n",
       "</table>\n",
       "</div>"
      ],
      "text/plain": [
       "   bhk       type                              locality  area  price  \\\n",
       "0    3  Apartment   Lak And Hanware The Residency Tower   685   2.50   \n",
       "1    2  Apartment     Radheya Sai Enclave Building No 2   640  52.51   \n",
       "2    2  Apartment                         Romell Serene   610   1.73   \n",
       "3    2  Apartment  Soundlines Codename Urban Rainforest   876  59.98   \n",
       "4    2  Apartment                         Origin Oriana   659  94.11   \n",
       "\n",
       "  price_unit          region              status  age  \n",
       "0         Cr    Andheri West       Ready to move  New  \n",
       "1          L    Naigaon East  Under Construction  New  \n",
       "2         Cr   Borivali West  Under Construction  New  \n",
       "3          L          Panvel  Under Construction  New  \n",
       "4          L  Mira Road East  Under Construction  New  "
      ]
     },
     "execution_count": 43,
     "metadata": {},
     "output_type": "execute_result"
    }
   ],
   "source": [
    "\n",
    "df1 = pd.read_csv(\"bomdata.csv\")\n",
    "df1.head()"
   ]
  },
  {
   "cell_type": "code",
   "execution_count": 45,
   "id": "6003fb7f-25a8-49a3-a5fc-fda213769e11",
   "metadata": {},
   "outputs": [
    {
     "data": {
      "text/plain": [
       "(76038, 9)"
      ]
     },
     "execution_count": 45,
     "metadata": {},
     "output_type": "execute_result"
    }
   ],
   "source": [
    "df1.shape"
   ]
  },
  {
   "cell_type": "code",
   "execution_count": 47,
   "id": "09e35800-005a-40f0-8407-fb7ae69d7d4d",
   "metadata": {},
   "outputs": [
    {
     "data": {
      "text/plain": [
       "bhk\n",
       "1     24613\n",
       "2     31429\n",
       "3     15273\n",
       "4      3934\n",
       "5       606\n",
       "6       148\n",
       "7        16\n",
       "8         8\n",
       "9         5\n",
       "10        6\n",
       "Name: bhk, dtype: int64"
      ]
     },
     "execution_count": 47,
     "metadata": {},
     "output_type": "execute_result"
    }
   ],
   "source": [
    "df1.groupby('bhk')['bhk'].agg('count')"
   ]
  },
  {
   "cell_type": "code",
   "execution_count": 49,
   "id": "483b5923-a858-49fe-965d-5d5c599e29cc",
   "metadata": {},
   "outputs": [
    {
     "data": {
      "text/html": [
       "<div>\n",
       "<style scoped>\n",
       "    .dataframe tbody tr th:only-of-type {\n",
       "        vertical-align: middle;\n",
       "    }\n",
       "\n",
       "    .dataframe tbody tr th {\n",
       "        vertical-align: top;\n",
       "    }\n",
       "\n",
       "    .dataframe thead th {\n",
       "        text-align: right;\n",
       "    }\n",
       "</style>\n",
       "<table border=\"1\" class=\"dataframe\">\n",
       "  <thead>\n",
       "    <tr style=\"text-align: right;\">\n",
       "      <th></th>\n",
       "      <th>bhk</th>\n",
       "      <th>type</th>\n",
       "      <th>locality</th>\n",
       "      <th>area</th>\n",
       "      <th>price</th>\n",
       "      <th>price_unit</th>\n",
       "      <th>region</th>\n",
       "    </tr>\n",
       "  </thead>\n",
       "  <tbody>\n",
       "    <tr>\n",
       "      <th>0</th>\n",
       "      <td>3</td>\n",
       "      <td>Apartment</td>\n",
       "      <td>Lak And Hanware The Residency Tower</td>\n",
       "      <td>685</td>\n",
       "      <td>2.50</td>\n",
       "      <td>Cr</td>\n",
       "      <td>Andheri West</td>\n",
       "    </tr>\n",
       "    <tr>\n",
       "      <th>1</th>\n",
       "      <td>2</td>\n",
       "      <td>Apartment</td>\n",
       "      <td>Radheya Sai Enclave Building No 2</td>\n",
       "      <td>640</td>\n",
       "      <td>52.51</td>\n",
       "      <td>L</td>\n",
       "      <td>Naigaon East</td>\n",
       "    </tr>\n",
       "    <tr>\n",
       "      <th>2</th>\n",
       "      <td>2</td>\n",
       "      <td>Apartment</td>\n",
       "      <td>Romell Serene</td>\n",
       "      <td>610</td>\n",
       "      <td>1.73</td>\n",
       "      <td>Cr</td>\n",
       "      <td>Borivali West</td>\n",
       "    </tr>\n",
       "    <tr>\n",
       "      <th>3</th>\n",
       "      <td>2</td>\n",
       "      <td>Apartment</td>\n",
       "      <td>Soundlines Codename Urban Rainforest</td>\n",
       "      <td>876</td>\n",
       "      <td>59.98</td>\n",
       "      <td>L</td>\n",
       "      <td>Panvel</td>\n",
       "    </tr>\n",
       "    <tr>\n",
       "      <th>4</th>\n",
       "      <td>2</td>\n",
       "      <td>Apartment</td>\n",
       "      <td>Origin Oriana</td>\n",
       "      <td>659</td>\n",
       "      <td>94.11</td>\n",
       "      <td>L</td>\n",
       "      <td>Mira Road East</td>\n",
       "    </tr>\n",
       "  </tbody>\n",
       "</table>\n",
       "</div>"
      ],
      "text/plain": [
       "   bhk       type                              locality  area  price  \\\n",
       "0    3  Apartment   Lak And Hanware The Residency Tower   685   2.50   \n",
       "1    2  Apartment     Radheya Sai Enclave Building No 2   640  52.51   \n",
       "2    2  Apartment                         Romell Serene   610   1.73   \n",
       "3    2  Apartment  Soundlines Codename Urban Rainforest   876  59.98   \n",
       "4    2  Apartment                         Origin Oriana   659  94.11   \n",
       "\n",
       "  price_unit          region  \n",
       "0         Cr    Andheri West  \n",
       "1          L    Naigaon East  \n",
       "2         Cr   Borivali West  \n",
       "3          L          Panvel  \n",
       "4          L  Mira Road East  "
      ]
     },
     "execution_count": 49,
     "metadata": {},
     "output_type": "execute_result"
    }
   ],
   "source": [
    "df2= df1.drop(['status','age'],axis='columns')\n",
    "df2.head()\n"
   ]
  },
  {
   "cell_type": "code",
   "execution_count": 51,
   "id": "aa5dca1d-ab1a-410f-9f05-2bef6755633d",
   "metadata": {},
   "outputs": [
    {
     "data": {
      "text/plain": [
       "bhk           0\n",
       "type          0\n",
       "locality      0\n",
       "area          0\n",
       "price         0\n",
       "price_unit    0\n",
       "region        0\n",
       "dtype: int64"
      ]
     },
     "execution_count": 51,
     "metadata": {},
     "output_type": "execute_result"
    }
   ],
   "source": [
    "df2.isnull().sum()"
   ]
  },
  {
   "cell_type": "code",
   "execution_count": 53,
   "id": "c20e6ce0-18b7-4737-ae5f-04f159214997",
   "metadata": {},
   "outputs": [],
   "source": [
    "df2.loc[df2['price_unit'] == 'Cr', 'price'] *= 100"
   ]
  },
  {
   "cell_type": "code",
   "execution_count": 55,
   "id": "a57eb08c-79cb-4419-a2be-bd9c5ec96b57",
   "metadata": {},
   "outputs": [
    {
     "data": {
      "text/html": [
       "<div>\n",
       "<style scoped>\n",
       "    .dataframe tbody tr th:only-of-type {\n",
       "        vertical-align: middle;\n",
       "    }\n",
       "\n",
       "    .dataframe tbody tr th {\n",
       "        vertical-align: top;\n",
       "    }\n",
       "\n",
       "    .dataframe thead th {\n",
       "        text-align: right;\n",
       "    }\n",
       "</style>\n",
       "<table border=\"1\" class=\"dataframe\">\n",
       "  <thead>\n",
       "    <tr style=\"text-align: right;\">\n",
       "      <th></th>\n",
       "      <th>bhk</th>\n",
       "      <th>type</th>\n",
       "      <th>locality</th>\n",
       "      <th>area</th>\n",
       "      <th>price</th>\n",
       "      <th>price_unit</th>\n",
       "      <th>region</th>\n",
       "    </tr>\n",
       "  </thead>\n",
       "  <tbody>\n",
       "    <tr>\n",
       "      <th>0</th>\n",
       "      <td>3</td>\n",
       "      <td>Apartment</td>\n",
       "      <td>Lak And Hanware The Residency Tower</td>\n",
       "      <td>685</td>\n",
       "      <td>250.00</td>\n",
       "      <td>Cr</td>\n",
       "      <td>Andheri West</td>\n",
       "    </tr>\n",
       "    <tr>\n",
       "      <th>1</th>\n",
       "      <td>2</td>\n",
       "      <td>Apartment</td>\n",
       "      <td>Radheya Sai Enclave Building No 2</td>\n",
       "      <td>640</td>\n",
       "      <td>52.51</td>\n",
       "      <td>L</td>\n",
       "      <td>Naigaon East</td>\n",
       "    </tr>\n",
       "    <tr>\n",
       "      <th>2</th>\n",
       "      <td>2</td>\n",
       "      <td>Apartment</td>\n",
       "      <td>Romell Serene</td>\n",
       "      <td>610</td>\n",
       "      <td>173.00</td>\n",
       "      <td>Cr</td>\n",
       "      <td>Borivali West</td>\n",
       "    </tr>\n",
       "    <tr>\n",
       "      <th>3</th>\n",
       "      <td>2</td>\n",
       "      <td>Apartment</td>\n",
       "      <td>Soundlines Codename Urban Rainforest</td>\n",
       "      <td>876</td>\n",
       "      <td>59.98</td>\n",
       "      <td>L</td>\n",
       "      <td>Panvel</td>\n",
       "    </tr>\n",
       "    <tr>\n",
       "      <th>4</th>\n",
       "      <td>2</td>\n",
       "      <td>Apartment</td>\n",
       "      <td>Origin Oriana</td>\n",
       "      <td>659</td>\n",
       "      <td>94.11</td>\n",
       "      <td>L</td>\n",
       "      <td>Mira Road East</td>\n",
       "    </tr>\n",
       "  </tbody>\n",
       "</table>\n",
       "</div>"
      ],
      "text/plain": [
       "   bhk       type                              locality  area   price  \\\n",
       "0    3  Apartment   Lak And Hanware The Residency Tower   685  250.00   \n",
       "1    2  Apartment     Radheya Sai Enclave Building No 2   640   52.51   \n",
       "2    2  Apartment                         Romell Serene   610  173.00   \n",
       "3    2  Apartment  Soundlines Codename Urban Rainforest   876   59.98   \n",
       "4    2  Apartment                         Origin Oriana   659   94.11   \n",
       "\n",
       "  price_unit          region  \n",
       "0         Cr    Andheri West  \n",
       "1          L    Naigaon East  \n",
       "2         Cr   Borivali West  \n",
       "3          L          Panvel  \n",
       "4          L  Mira Road East  "
      ]
     },
     "execution_count": 55,
     "metadata": {},
     "output_type": "execute_result"
    }
   ],
   "source": [
    "df2.head()"
   ]
  },
  {
   "cell_type": "code",
   "execution_count": 57,
   "id": "3392bdfb-1292-4b6c-a7b5-0fc5956d29b2",
   "metadata": {},
   "outputs": [],
   "source": [
    "df2.loc[df2['price_unit'] == 'Cr', 'price_unit'] = 'L'"
   ]
  },
  {
   "cell_type": "code",
   "execution_count": 59,
   "id": "7ccd9b65-ea07-40f4-86b7-2443b2d438b3",
   "metadata": {},
   "outputs": [
    {
     "data": {
      "text/html": [
       "<div>\n",
       "<style scoped>\n",
       "    .dataframe tbody tr th:only-of-type {\n",
       "        vertical-align: middle;\n",
       "    }\n",
       "\n",
       "    .dataframe tbody tr th {\n",
       "        vertical-align: top;\n",
       "    }\n",
       "\n",
       "    .dataframe thead th {\n",
       "        text-align: right;\n",
       "    }\n",
       "</style>\n",
       "<table border=\"1\" class=\"dataframe\">\n",
       "  <thead>\n",
       "    <tr style=\"text-align: right;\">\n",
       "      <th></th>\n",
       "      <th>bhk</th>\n",
       "      <th>type</th>\n",
       "      <th>locality</th>\n",
       "      <th>area</th>\n",
       "      <th>price</th>\n",
       "      <th>price_unit</th>\n",
       "      <th>region</th>\n",
       "    </tr>\n",
       "  </thead>\n",
       "  <tbody>\n",
       "    <tr>\n",
       "      <th>0</th>\n",
       "      <td>3</td>\n",
       "      <td>Apartment</td>\n",
       "      <td>Lak And Hanware The Residency Tower</td>\n",
       "      <td>685</td>\n",
       "      <td>250.00</td>\n",
       "      <td>L</td>\n",
       "      <td>Andheri West</td>\n",
       "    </tr>\n",
       "    <tr>\n",
       "      <th>1</th>\n",
       "      <td>2</td>\n",
       "      <td>Apartment</td>\n",
       "      <td>Radheya Sai Enclave Building No 2</td>\n",
       "      <td>640</td>\n",
       "      <td>52.51</td>\n",
       "      <td>L</td>\n",
       "      <td>Naigaon East</td>\n",
       "    </tr>\n",
       "    <tr>\n",
       "      <th>2</th>\n",
       "      <td>2</td>\n",
       "      <td>Apartment</td>\n",
       "      <td>Romell Serene</td>\n",
       "      <td>610</td>\n",
       "      <td>173.00</td>\n",
       "      <td>L</td>\n",
       "      <td>Borivali West</td>\n",
       "    </tr>\n",
       "    <tr>\n",
       "      <th>3</th>\n",
       "      <td>2</td>\n",
       "      <td>Apartment</td>\n",
       "      <td>Soundlines Codename Urban Rainforest</td>\n",
       "      <td>876</td>\n",
       "      <td>59.98</td>\n",
       "      <td>L</td>\n",
       "      <td>Panvel</td>\n",
       "    </tr>\n",
       "    <tr>\n",
       "      <th>4</th>\n",
       "      <td>2</td>\n",
       "      <td>Apartment</td>\n",
       "      <td>Origin Oriana</td>\n",
       "      <td>659</td>\n",
       "      <td>94.11</td>\n",
       "      <td>L</td>\n",
       "      <td>Mira Road East</td>\n",
       "    </tr>\n",
       "  </tbody>\n",
       "</table>\n",
       "</div>"
      ],
      "text/plain": [
       "   bhk       type                              locality  area   price  \\\n",
       "0    3  Apartment   Lak And Hanware The Residency Tower   685  250.00   \n",
       "1    2  Apartment     Radheya Sai Enclave Building No 2   640   52.51   \n",
       "2    2  Apartment                         Romell Serene   610  173.00   \n",
       "3    2  Apartment  Soundlines Codename Urban Rainforest   876   59.98   \n",
       "4    2  Apartment                         Origin Oriana   659   94.11   \n",
       "\n",
       "  price_unit          region  \n",
       "0          L    Andheri West  \n",
       "1          L    Naigaon East  \n",
       "2          L   Borivali West  \n",
       "3          L          Panvel  \n",
       "4          L  Mira Road East  "
      ]
     },
     "execution_count": 59,
     "metadata": {},
     "output_type": "execute_result"
    }
   ],
   "source": [
    "df2.head()"
   ]
  },
  {
   "cell_type": "code",
   "execution_count": 61,
   "id": "3ce0364a-e3fb-4aaf-b3fd-ea6747b1f837",
   "metadata": {},
   "outputs": [
    {
     "data": {
      "text/plain": [
       "array([ 3,  2,  5,  1,  4,  6,  9,  8, 10,  7], dtype=int64)"
      ]
     },
     "execution_count": 61,
     "metadata": {},
     "output_type": "execute_result"
    }
   ],
   "source": [
    "df2['bhk'].unique()"
   ]
  },
  {
   "cell_type": "code",
   "execution_count": 63,
   "id": "fc6c3848-5571-4e1b-8f86-9faf8fd45a83",
   "metadata": {},
   "outputs": [
    {
     "data": {
      "text/html": [
       "<div>\n",
       "<style scoped>\n",
       "    .dataframe tbody tr th:only-of-type {\n",
       "        vertical-align: middle;\n",
       "    }\n",
       "\n",
       "    .dataframe tbody tr th {\n",
       "        vertical-align: top;\n",
       "    }\n",
       "\n",
       "    .dataframe thead th {\n",
       "        text-align: right;\n",
       "    }\n",
       "</style>\n",
       "<table border=\"1\" class=\"dataframe\">\n",
       "  <thead>\n",
       "    <tr style=\"text-align: right;\">\n",
       "      <th></th>\n",
       "      <th>bhk</th>\n",
       "      <th>type</th>\n",
       "      <th>locality</th>\n",
       "      <th>area</th>\n",
       "      <th>price</th>\n",
       "      <th>price_unit</th>\n",
       "      <th>region</th>\n",
       "    </tr>\n",
       "  </thead>\n",
       "  <tbody>\n",
       "    <tr>\n",
       "      <th>3038</th>\n",
       "      <td>9</td>\n",
       "      <td>Apartment</td>\n",
       "      <td>Tridhaatu Tridhaatu Aranya</td>\n",
       "      <td>5500</td>\n",
       "      <td>2313.0</td>\n",
       "      <td>L</td>\n",
       "      <td>Deonar</td>\n",
       "    </tr>\n",
       "    <tr>\n",
       "      <th>8134</th>\n",
       "      <td>8</td>\n",
       "      <td>Apartment</td>\n",
       "      <td>Ajmera Treon</td>\n",
       "      <td>3285</td>\n",
       "      <td>850.0</td>\n",
       "      <td>L</td>\n",
       "      <td>Wadala</td>\n",
       "    </tr>\n",
       "    <tr>\n",
       "      <th>8453</th>\n",
       "      <td>9</td>\n",
       "      <td>Apartment</td>\n",
       "      <td>Reputed Builder Varsha Apartments</td>\n",
       "      <td>6350</td>\n",
       "      <td>3400.0</td>\n",
       "      <td>L</td>\n",
       "      <td>Juhu</td>\n",
       "    </tr>\n",
       "    <tr>\n",
       "      <th>8454</th>\n",
       "      <td>10</td>\n",
       "      <td>Apartment</td>\n",
       "      <td>Reputed Builder Varsha Apartments</td>\n",
       "      <td>6200</td>\n",
       "      <td>3300.0</td>\n",
       "      <td>L</td>\n",
       "      <td>Juhu</td>\n",
       "    </tr>\n",
       "    <tr>\n",
       "      <th>8455</th>\n",
       "      <td>10</td>\n",
       "      <td>Apartment</td>\n",
       "      <td>Reputed Builder Avighna</td>\n",
       "      <td>6500</td>\n",
       "      <td>3500.0</td>\n",
       "      <td>L</td>\n",
       "      <td>Chembur</td>\n",
       "    </tr>\n",
       "    <tr>\n",
       "      <th>8557</th>\n",
       "      <td>8</td>\n",
       "      <td>Apartment</td>\n",
       "      <td>Reputed Builder Atlantis</td>\n",
       "      <td>7800</td>\n",
       "      <td>2500.0</td>\n",
       "      <td>L</td>\n",
       "      <td>Kharghar</td>\n",
       "    </tr>\n",
       "    <tr>\n",
       "      <th>8559</th>\n",
       "      <td>9</td>\n",
       "      <td>Apartment</td>\n",
       "      <td>Parthenon Raiaskaran</td>\n",
       "      <td>8500</td>\n",
       "      <td>3000.0</td>\n",
       "      <td>L</td>\n",
       "      <td>Andheri West</td>\n",
       "    </tr>\n",
       "    <tr>\n",
       "      <th>11846</th>\n",
       "      <td>9</td>\n",
       "      <td>Apartment</td>\n",
       "      <td>Reputed Builder Ram Niwas</td>\n",
       "      <td>7000</td>\n",
       "      <td>3600.0</td>\n",
       "      <td>L</td>\n",
       "      <td>Kandivali West</td>\n",
       "    </tr>\n",
       "    <tr>\n",
       "      <th>12080</th>\n",
       "      <td>7</td>\n",
       "      <td>Apartment</td>\n",
       "      <td>Heena Gokul Ashirwad</td>\n",
       "      <td>5000</td>\n",
       "      <td>1700.0</td>\n",
       "      <td>L</td>\n",
       "      <td>Juhu</td>\n",
       "    </tr>\n",
       "    <tr>\n",
       "      <th>14848</th>\n",
       "      <td>7</td>\n",
       "      <td>Villa</td>\n",
       "      <td>Ahuja Tower</td>\n",
       "      <td>12400</td>\n",
       "      <td>3500.0</td>\n",
       "      <td>L</td>\n",
       "      <td>Prabhadevi</td>\n",
       "    </tr>\n",
       "    <tr>\n",
       "      <th>17186</th>\n",
       "      <td>8</td>\n",
       "      <td>Apartment</td>\n",
       "      <td>Reputed Builder Sangeeta Apartments</td>\n",
       "      <td>5400</td>\n",
       "      <td>2700.0</td>\n",
       "      <td>L</td>\n",
       "      <td>Chembur</td>\n",
       "    </tr>\n",
       "    <tr>\n",
       "      <th>19009</th>\n",
       "      <td>8</td>\n",
       "      <td>Apartment</td>\n",
       "      <td>Sheth Vasant Oasis</td>\n",
       "      <td>3700</td>\n",
       "      <td>985.0</td>\n",
       "      <td>L</td>\n",
       "      <td>Andheri East</td>\n",
       "    </tr>\n",
       "    <tr>\n",
       "      <th>20868</th>\n",
       "      <td>7</td>\n",
       "      <td>Apartment</td>\n",
       "      <td>Reputed Builder Sagar Darshan Towers</td>\n",
       "      <td>4600</td>\n",
       "      <td>950.0</td>\n",
       "      <td>L</td>\n",
       "      <td>Nerul</td>\n",
       "    </tr>\n",
       "    <tr>\n",
       "      <th>26911</th>\n",
       "      <td>7</td>\n",
       "      <td>Apartment</td>\n",
       "      <td>Piramal Revanta</td>\n",
       "      <td>2766</td>\n",
       "      <td>770.0</td>\n",
       "      <td>L</td>\n",
       "      <td>Mulund West</td>\n",
       "    </tr>\n",
       "    <tr>\n",
       "      <th>30271</th>\n",
       "      <td>7</td>\n",
       "      <td>Apartment</td>\n",
       "      <td>Lodha Trump Tower Mumbai</td>\n",
       "      <td>4000</td>\n",
       "      <td>1500.0</td>\n",
       "      <td>L</td>\n",
       "      <td>Lower Parel</td>\n",
       "    </tr>\n",
       "    <tr>\n",
       "      <th>30828</th>\n",
       "      <td>7</td>\n",
       "      <td>Apartment</td>\n",
       "      <td>Wadhwa 25 South Prabhadevi</td>\n",
       "      <td>6100</td>\n",
       "      <td>4575.0</td>\n",
       "      <td>L</td>\n",
       "      <td>Prabhadevi</td>\n",
       "    </tr>\n",
       "    <tr>\n",
       "      <th>30832</th>\n",
       "      <td>7</td>\n",
       "      <td>Apartment</td>\n",
       "      <td>Parthenon Raiaskaran</td>\n",
       "      <td>6660</td>\n",
       "      <td>2950.0</td>\n",
       "      <td>L</td>\n",
       "      <td>Andheri West</td>\n",
       "    </tr>\n",
       "    <tr>\n",
       "      <th>30834</th>\n",
       "      <td>8</td>\n",
       "      <td>Apartment</td>\n",
       "      <td>Rustomjee Elements</td>\n",
       "      <td>7500</td>\n",
       "      <td>5000.0</td>\n",
       "      <td>L</td>\n",
       "      <td>Andheri West</td>\n",
       "    </tr>\n",
       "    <tr>\n",
       "      <th>33384</th>\n",
       "      <td>7</td>\n",
       "      <td>Apartment</td>\n",
       "      <td>Sheth Montana</td>\n",
       "      <td>6080</td>\n",
       "      <td>765.0</td>\n",
       "      <td>L</td>\n",
       "      <td>Mulund West</td>\n",
       "    </tr>\n",
       "    <tr>\n",
       "      <th>40560</th>\n",
       "      <td>7</td>\n",
       "      <td>Apartment</td>\n",
       "      <td>Piramal Revanta</td>\n",
       "      <td>2766</td>\n",
       "      <td>771.0</td>\n",
       "      <td>L</td>\n",
       "      <td>Mulund West</td>\n",
       "    </tr>\n",
       "    <tr>\n",
       "      <th>42178</th>\n",
       "      <td>7</td>\n",
       "      <td>Apartment</td>\n",
       "      <td>Piramal Revanta</td>\n",
       "      <td>2766</td>\n",
       "      <td>770.0</td>\n",
       "      <td>L</td>\n",
       "      <td>Mulund West</td>\n",
       "    </tr>\n",
       "    <tr>\n",
       "      <th>44957</th>\n",
       "      <td>7</td>\n",
       "      <td>Apartment</td>\n",
       "      <td>Indiabulls Blu Tower B</td>\n",
       "      <td>5500</td>\n",
       "      <td>2200.0</td>\n",
       "      <td>L</td>\n",
       "      <td>Worli</td>\n",
       "    </tr>\n",
       "    <tr>\n",
       "      <th>45473</th>\n",
       "      <td>10</td>\n",
       "      <td>Apartment</td>\n",
       "      <td>Rustomjee Crown Phase 1</td>\n",
       "      <td>7500</td>\n",
       "      <td>4100.0</td>\n",
       "      <td>L</td>\n",
       "      <td>Prabhadevi</td>\n",
       "    </tr>\n",
       "    <tr>\n",
       "      <th>60864</th>\n",
       "      <td>10</td>\n",
       "      <td>Apartment</td>\n",
       "      <td>JP Chalet Amar</td>\n",
       "      <td>16000</td>\n",
       "      <td>5000.0</td>\n",
       "      <td>L</td>\n",
       "      <td>Juhu</td>\n",
       "    </tr>\n",
       "    <tr>\n",
       "      <th>62632</th>\n",
       "      <td>8</td>\n",
       "      <td>Apartment</td>\n",
       "      <td>Rangoli Emerene Heights</td>\n",
       "      <td>4350</td>\n",
       "      <td>1650.0</td>\n",
       "      <td>L</td>\n",
       "      <td>Santacruz West</td>\n",
       "    </tr>\n",
       "    <tr>\n",
       "      <th>68137</th>\n",
       "      <td>8</td>\n",
       "      <td>Apartment</td>\n",
       "      <td>Lodha Seaview</td>\n",
       "      <td>6650</td>\n",
       "      <td>3000.0</td>\n",
       "      <td>L</td>\n",
       "      <td>Napeansea Road</td>\n",
       "    </tr>\n",
       "    <tr>\n",
       "      <th>68204</th>\n",
       "      <td>9</td>\n",
       "      <td>Apartment</td>\n",
       "      <td>Arkade Rise</td>\n",
       "      <td>6000</td>\n",
       "      <td>3000.0</td>\n",
       "      <td>L</td>\n",
       "      <td>Peddar Road</td>\n",
       "    </tr>\n",
       "    <tr>\n",
       "      <th>68272</th>\n",
       "      <td>7</td>\n",
       "      <td>Apartment</td>\n",
       "      <td>Piramal Revanta Tower 1</td>\n",
       "      <td>3595</td>\n",
       "      <td>450.0</td>\n",
       "      <td>L</td>\n",
       "      <td>Mulund West</td>\n",
       "    </tr>\n",
       "    <tr>\n",
       "      <th>68330</th>\n",
       "      <td>8</td>\n",
       "      <td>Apartment</td>\n",
       "      <td>K Raheja Artesia Residential Wing Constructed ...</td>\n",
       "      <td>10000</td>\n",
       "      <td>3000.0</td>\n",
       "      <td>L</td>\n",
       "      <td>Worli</td>\n",
       "    </tr>\n",
       "    <tr>\n",
       "      <th>68497</th>\n",
       "      <td>7</td>\n",
       "      <td>Apartment</td>\n",
       "      <td>Omkar 1973</td>\n",
       "      <td>10000</td>\n",
       "      <td>2200.0</td>\n",
       "      <td>L</td>\n",
       "      <td>Worli</td>\n",
       "    </tr>\n",
       "    <tr>\n",
       "      <th>68538</th>\n",
       "      <td>10</td>\n",
       "      <td>Apartment</td>\n",
       "      <td>Indiabulls Blu Tower D</td>\n",
       "      <td>16000</td>\n",
       "      <td>4000.0</td>\n",
       "      <td>L</td>\n",
       "      <td>Worli</td>\n",
       "    </tr>\n",
       "    <tr>\n",
       "      <th>68539</th>\n",
       "      <td>10</td>\n",
       "      <td>Apartment</td>\n",
       "      <td>Sunteck Signature Island</td>\n",
       "      <td>16000</td>\n",
       "      <td>5000.0</td>\n",
       "      <td>L</td>\n",
       "      <td>Bandra Kurla Complex</td>\n",
       "    </tr>\n",
       "    <tr>\n",
       "      <th>71621</th>\n",
       "      <td>7</td>\n",
       "      <td>Apartment</td>\n",
       "      <td>Piramal Revanta</td>\n",
       "      <td>2766</td>\n",
       "      <td>771.0</td>\n",
       "      <td>L</td>\n",
       "      <td>Mulund West</td>\n",
       "    </tr>\n",
       "    <tr>\n",
       "      <th>72444</th>\n",
       "      <td>7</td>\n",
       "      <td>Apartment</td>\n",
       "      <td>Piramal Revanta</td>\n",
       "      <td>2766</td>\n",
       "      <td>771.0</td>\n",
       "      <td>L</td>\n",
       "      <td>Mulund West</td>\n",
       "    </tr>\n",
       "    <tr>\n",
       "      <th>74260</th>\n",
       "      <td>7</td>\n",
       "      <td>Apartment</td>\n",
       "      <td>Piramal Revanta Tower 1</td>\n",
       "      <td>2766</td>\n",
       "      <td>691.0</td>\n",
       "      <td>L</td>\n",
       "      <td>Mulund West</td>\n",
       "    </tr>\n",
       "  </tbody>\n",
       "</table>\n",
       "</div>"
      ],
      "text/plain": [
       "       bhk       type                                           locality  \\\n",
       "3038     9  Apartment                         Tridhaatu Tridhaatu Aranya   \n",
       "8134     8  Apartment                                       Ajmera Treon   \n",
       "8453     9  Apartment                  Reputed Builder Varsha Apartments   \n",
       "8454    10  Apartment                  Reputed Builder Varsha Apartments   \n",
       "8455    10  Apartment                            Reputed Builder Avighna   \n",
       "8557     8  Apartment                           Reputed Builder Atlantis   \n",
       "8559     9  Apartment                               Parthenon Raiaskaran   \n",
       "11846    9  Apartment                          Reputed Builder Ram Niwas   \n",
       "12080    7  Apartment                               Heena Gokul Ashirwad   \n",
       "14848    7      Villa                                        Ahuja Tower   \n",
       "17186    8  Apartment                Reputed Builder Sangeeta Apartments   \n",
       "19009    8  Apartment                                 Sheth Vasant Oasis   \n",
       "20868    7  Apartment               Reputed Builder Sagar Darshan Towers   \n",
       "26911    7  Apartment                                    Piramal Revanta   \n",
       "30271    7  Apartment                           Lodha Trump Tower Mumbai   \n",
       "30828    7  Apartment                         Wadhwa 25 South Prabhadevi   \n",
       "30832    7  Apartment                               Parthenon Raiaskaran   \n",
       "30834    8  Apartment                                 Rustomjee Elements   \n",
       "33384    7  Apartment                                      Sheth Montana   \n",
       "40560    7  Apartment                                    Piramal Revanta   \n",
       "42178    7  Apartment                                    Piramal Revanta   \n",
       "44957    7  Apartment                             Indiabulls Blu Tower B   \n",
       "45473   10  Apartment                            Rustomjee Crown Phase 1   \n",
       "60864   10  Apartment                                     JP Chalet Amar   \n",
       "62632    8  Apartment                            Rangoli Emerene Heights   \n",
       "68137    8  Apartment                                      Lodha Seaview   \n",
       "68204    9  Apartment                                        Arkade Rise   \n",
       "68272    7  Apartment                            Piramal Revanta Tower 1   \n",
       "68330    8  Apartment  K Raheja Artesia Residential Wing Constructed ...   \n",
       "68497    7  Apartment                                         Omkar 1973   \n",
       "68538   10  Apartment                             Indiabulls Blu Tower D   \n",
       "68539   10  Apartment                           Sunteck Signature Island   \n",
       "71621    7  Apartment                                    Piramal Revanta   \n",
       "72444    7  Apartment                                    Piramal Revanta   \n",
       "74260    7  Apartment                            Piramal Revanta Tower 1   \n",
       "\n",
       "        area   price price_unit                region  \n",
       "3038    5500  2313.0          L                Deonar  \n",
       "8134    3285   850.0          L                Wadala  \n",
       "8453    6350  3400.0          L                  Juhu  \n",
       "8454    6200  3300.0          L                  Juhu  \n",
       "8455    6500  3500.0          L               Chembur  \n",
       "8557    7800  2500.0          L              Kharghar  \n",
       "8559    8500  3000.0          L          Andheri West  \n",
       "11846   7000  3600.0          L        Kandivali West  \n",
       "12080   5000  1700.0          L                  Juhu  \n",
       "14848  12400  3500.0          L            Prabhadevi  \n",
       "17186   5400  2700.0          L               Chembur  \n",
       "19009   3700   985.0          L          Andheri East  \n",
       "20868   4600   950.0          L                 Nerul  \n",
       "26911   2766   770.0          L           Mulund West  \n",
       "30271   4000  1500.0          L           Lower Parel  \n",
       "30828   6100  4575.0          L            Prabhadevi  \n",
       "30832   6660  2950.0          L          Andheri West  \n",
       "30834   7500  5000.0          L          Andheri West  \n",
       "33384   6080   765.0          L           Mulund West  \n",
       "40560   2766   771.0          L           Mulund West  \n",
       "42178   2766   770.0          L           Mulund West  \n",
       "44957   5500  2200.0          L                 Worli  \n",
       "45473   7500  4100.0          L            Prabhadevi  \n",
       "60864  16000  5000.0          L                  Juhu  \n",
       "62632   4350  1650.0          L        Santacruz West  \n",
       "68137   6650  3000.0          L        Napeansea Road  \n",
       "68204   6000  3000.0          L           Peddar Road  \n",
       "68272   3595   450.0          L           Mulund West  \n",
       "68330  10000  3000.0          L                 Worli  \n",
       "68497  10000  2200.0          L                 Worli  \n",
       "68538  16000  4000.0          L                 Worli  \n",
       "68539  16000  5000.0          L  Bandra Kurla Complex  \n",
       "71621   2766   771.0          L           Mulund West  \n",
       "72444   2766   771.0          L           Mulund West  \n",
       "74260   2766   691.0          L           Mulund West  "
      ]
     },
     "execution_count": 63,
     "metadata": {},
     "output_type": "execute_result"
    }
   ],
   "source": [
    "df2[df2.bhk>6]"
   ]
  },
  {
   "cell_type": "code",
   "execution_count": 65,
   "id": "77ccc4a5-3fa2-4775-b131-35604c99472b",
   "metadata": {},
   "outputs": [
    {
     "data": {
      "text/plain": [
       "array([ 685,  640,  610, ..., 1974, 1634, 3049], dtype=int64)"
      ]
     },
     "execution_count": 65,
     "metadata": {},
     "output_type": "execute_result"
    }
   ],
   "source": [
    "df2['area'].unique()"
   ]
  },
  {
   "cell_type": "code",
   "execution_count": 67,
   "id": "3b9aa156-9ff0-4f01-a7ca-56a8a5f61d34",
   "metadata": {},
   "outputs": [],
   "source": [
    "df3=df2.copy()"
   ]
  },
  {
   "cell_type": "code",
   "execution_count": 69,
   "id": "d5e83323-921f-475e-aca3-578d1345343e",
   "metadata": {},
   "outputs": [
    {
     "data": {
      "text/html": [
       "<div>\n",
       "<style scoped>\n",
       "    .dataframe tbody tr th:only-of-type {\n",
       "        vertical-align: middle;\n",
       "    }\n",
       "\n",
       "    .dataframe tbody tr th {\n",
       "        vertical-align: top;\n",
       "    }\n",
       "\n",
       "    .dataframe thead th {\n",
       "        text-align: right;\n",
       "    }\n",
       "</style>\n",
       "<table border=\"1\" class=\"dataframe\">\n",
       "  <thead>\n",
       "    <tr style=\"text-align: right;\">\n",
       "      <th></th>\n",
       "      <th>bhk</th>\n",
       "      <th>type</th>\n",
       "      <th>locality</th>\n",
       "      <th>area</th>\n",
       "      <th>price</th>\n",
       "      <th>price_unit</th>\n",
       "      <th>region</th>\n",
       "    </tr>\n",
       "  </thead>\n",
       "  <tbody>\n",
       "    <tr>\n",
       "      <th>0</th>\n",
       "      <td>3</td>\n",
       "      <td>Apartment</td>\n",
       "      <td>Lak And Hanware The Residency Tower</td>\n",
       "      <td>685</td>\n",
       "      <td>250.00</td>\n",
       "      <td>L</td>\n",
       "      <td>Andheri West</td>\n",
       "    </tr>\n",
       "    <tr>\n",
       "      <th>1</th>\n",
       "      <td>2</td>\n",
       "      <td>Apartment</td>\n",
       "      <td>Radheya Sai Enclave Building No 2</td>\n",
       "      <td>640</td>\n",
       "      <td>52.51</td>\n",
       "      <td>L</td>\n",
       "      <td>Naigaon East</td>\n",
       "    </tr>\n",
       "    <tr>\n",
       "      <th>2</th>\n",
       "      <td>2</td>\n",
       "      <td>Apartment</td>\n",
       "      <td>Romell Serene</td>\n",
       "      <td>610</td>\n",
       "      <td>173.00</td>\n",
       "      <td>L</td>\n",
       "      <td>Borivali West</td>\n",
       "    </tr>\n",
       "    <tr>\n",
       "      <th>3</th>\n",
       "      <td>2</td>\n",
       "      <td>Apartment</td>\n",
       "      <td>Soundlines Codename Urban Rainforest</td>\n",
       "      <td>876</td>\n",
       "      <td>59.98</td>\n",
       "      <td>L</td>\n",
       "      <td>Panvel</td>\n",
       "    </tr>\n",
       "    <tr>\n",
       "      <th>4</th>\n",
       "      <td>2</td>\n",
       "      <td>Apartment</td>\n",
       "      <td>Origin Oriana</td>\n",
       "      <td>659</td>\n",
       "      <td>94.11</td>\n",
       "      <td>L</td>\n",
       "      <td>Mira Road East</td>\n",
       "    </tr>\n",
       "    <tr>\n",
       "      <th>...</th>\n",
       "      <td>...</td>\n",
       "      <td>...</td>\n",
       "      <td>...</td>\n",
       "      <td>...</td>\n",
       "      <td>...</td>\n",
       "      <td>...</td>\n",
       "      <td>...</td>\n",
       "    </tr>\n",
       "    <tr>\n",
       "      <th>76033</th>\n",
       "      <td>3</td>\n",
       "      <td>Apartment</td>\n",
       "      <td>Parinee Liva Roca</td>\n",
       "      <td>1527</td>\n",
       "      <td>700.00</td>\n",
       "      <td>L</td>\n",
       "      <td>Juhu</td>\n",
       "    </tr>\n",
       "    <tr>\n",
       "      <th>76034</th>\n",
       "      <td>5</td>\n",
       "      <td>Apartment</td>\n",
       "      <td>Parinee Liva Roca</td>\n",
       "      <td>3049</td>\n",
       "      <td>1200.00</td>\n",
       "      <td>L</td>\n",
       "      <td>Juhu</td>\n",
       "    </tr>\n",
       "    <tr>\n",
       "      <th>76035</th>\n",
       "      <td>4</td>\n",
       "      <td>Apartment</td>\n",
       "      <td>Lodha Seaview</td>\n",
       "      <td>3313</td>\n",
       "      <td>1000.00</td>\n",
       "      <td>L</td>\n",
       "      <td>Napeansea Road</td>\n",
       "    </tr>\n",
       "    <tr>\n",
       "      <th>76036</th>\n",
       "      <td>2</td>\n",
       "      <td>Apartment</td>\n",
       "      <td>Hubtown Serene</td>\n",
       "      <td>1305</td>\n",
       "      <td>425.00</td>\n",
       "      <td>L</td>\n",
       "      <td>Bandra East</td>\n",
       "    </tr>\n",
       "    <tr>\n",
       "      <th>76037</th>\n",
       "      <td>5</td>\n",
       "      <td>Apartment</td>\n",
       "      <td>Sunteck Signature Island</td>\n",
       "      <td>5200</td>\n",
       "      <td>2500.00</td>\n",
       "      <td>L</td>\n",
       "      <td>Bandra Kurla Complex</td>\n",
       "    </tr>\n",
       "  </tbody>\n",
       "</table>\n",
       "<p>54743 rows × 7 columns</p>\n",
       "</div>"
      ],
      "text/plain": [
       "       bhk       type                              locality  area    price  \\\n",
       "0        3  Apartment   Lak And Hanware The Residency Tower   685   250.00   \n",
       "1        2  Apartment     Radheya Sai Enclave Building No 2   640    52.51   \n",
       "2        2  Apartment                         Romell Serene   610   173.00   \n",
       "3        2  Apartment  Soundlines Codename Urban Rainforest   876    59.98   \n",
       "4        2  Apartment                         Origin Oriana   659    94.11   \n",
       "...    ...        ...                                   ...   ...      ...   \n",
       "76033    3  Apartment                     Parinee Liva Roca  1527   700.00   \n",
       "76034    5  Apartment                     Parinee Liva Roca  3049  1200.00   \n",
       "76035    4  Apartment                         Lodha Seaview  3313  1000.00   \n",
       "76036    2  Apartment                        Hubtown Serene  1305   425.00   \n",
       "76037    5  Apartment              Sunteck Signature Island  5200  2500.00   \n",
       "\n",
       "      price_unit                region  \n",
       "0              L          Andheri West  \n",
       "1              L          Naigaon East  \n",
       "2              L         Borivali West  \n",
       "3              L                Panvel  \n",
       "4              L        Mira Road East  \n",
       "...          ...                   ...  \n",
       "76033          L                  Juhu  \n",
       "76034          L                  Juhu  \n",
       "76035          L        Napeansea Road  \n",
       "76036          L           Bandra East  \n",
       "76037          L  Bandra Kurla Complex  \n",
       "\n",
       "[54743 rows x 7 columns]"
      ]
     },
     "execution_count": 69,
     "metadata": {},
     "output_type": "execute_result"
    }
   ],
   "source": [
    "df2.drop_duplicates()"
   ]
  },
  {
   "cell_type": "code",
   "execution_count": 71,
   "id": "43eabe17-b24c-4b70-9ac6-f0d1ee1fb9a1",
   "metadata": {},
   "outputs": [
    {
     "data": {
      "text/plain": [
       "(76038, 7)"
      ]
     },
     "execution_count": 71,
     "metadata": {},
     "output_type": "execute_result"
    }
   ],
   "source": [
    "df2.shape"
   ]
  },
  {
   "cell_type": "code",
   "execution_count": 73,
   "id": "5ddcd069-b056-4632-9083-c1ec07598f74",
   "metadata": {},
   "outputs": [
    {
     "data": {
      "text/html": [
       "<div>\n",
       "<style scoped>\n",
       "    .dataframe tbody tr th:only-of-type {\n",
       "        vertical-align: middle;\n",
       "    }\n",
       "\n",
       "    .dataframe tbody tr th {\n",
       "        vertical-align: top;\n",
       "    }\n",
       "\n",
       "    .dataframe thead th {\n",
       "        text-align: right;\n",
       "    }\n",
       "</style>\n",
       "<table border=\"1\" class=\"dataframe\">\n",
       "  <thead>\n",
       "    <tr style=\"text-align: right;\">\n",
       "      <th></th>\n",
       "      <th>bhk</th>\n",
       "      <th>type</th>\n",
       "      <th>locality</th>\n",
       "      <th>area</th>\n",
       "      <th>price</th>\n",
       "      <th>price_unit</th>\n",
       "      <th>region</th>\n",
       "      <th>price_per_sqft</th>\n",
       "    </tr>\n",
       "  </thead>\n",
       "  <tbody>\n",
       "    <tr>\n",
       "      <th>0</th>\n",
       "      <td>3</td>\n",
       "      <td>Apartment</td>\n",
       "      <td>Lak And Hanware The Residency Tower</td>\n",
       "      <td>685</td>\n",
       "      <td>250.00</td>\n",
       "      <td>L</td>\n",
       "      <td>Andheri West</td>\n",
       "      <td>36496.350365</td>\n",
       "    </tr>\n",
       "    <tr>\n",
       "      <th>1</th>\n",
       "      <td>2</td>\n",
       "      <td>Apartment</td>\n",
       "      <td>Radheya Sai Enclave Building No 2</td>\n",
       "      <td>640</td>\n",
       "      <td>52.51</td>\n",
       "      <td>L</td>\n",
       "      <td>Naigaon East</td>\n",
       "      <td>8204.687500</td>\n",
       "    </tr>\n",
       "    <tr>\n",
       "      <th>2</th>\n",
       "      <td>2</td>\n",
       "      <td>Apartment</td>\n",
       "      <td>Romell Serene</td>\n",
       "      <td>610</td>\n",
       "      <td>173.00</td>\n",
       "      <td>L</td>\n",
       "      <td>Borivali West</td>\n",
       "      <td>28360.655738</td>\n",
       "    </tr>\n",
       "    <tr>\n",
       "      <th>3</th>\n",
       "      <td>2</td>\n",
       "      <td>Apartment</td>\n",
       "      <td>Soundlines Codename Urban Rainforest</td>\n",
       "      <td>876</td>\n",
       "      <td>59.98</td>\n",
       "      <td>L</td>\n",
       "      <td>Panvel</td>\n",
       "      <td>6847.031963</td>\n",
       "    </tr>\n",
       "    <tr>\n",
       "      <th>4</th>\n",
       "      <td>2</td>\n",
       "      <td>Apartment</td>\n",
       "      <td>Origin Oriana</td>\n",
       "      <td>659</td>\n",
       "      <td>94.11</td>\n",
       "      <td>L</td>\n",
       "      <td>Mira Road East</td>\n",
       "      <td>14280.728376</td>\n",
       "    </tr>\n",
       "  </tbody>\n",
       "</table>\n",
       "</div>"
      ],
      "text/plain": [
       "   bhk       type                              locality  area   price  \\\n",
       "0    3  Apartment   Lak And Hanware The Residency Tower   685  250.00   \n",
       "1    2  Apartment     Radheya Sai Enclave Building No 2   640   52.51   \n",
       "2    2  Apartment                         Romell Serene   610  173.00   \n",
       "3    2  Apartment  Soundlines Codename Urban Rainforest   876   59.98   \n",
       "4    2  Apartment                         Origin Oriana   659   94.11   \n",
       "\n",
       "  price_unit          region  price_per_sqft  \n",
       "0          L    Andheri West    36496.350365  \n",
       "1          L    Naigaon East     8204.687500  \n",
       "2          L   Borivali West    28360.655738  \n",
       "3          L          Panvel     6847.031963  \n",
       "4          L  Mira Road East    14280.728376  "
      ]
     },
     "execution_count": 73,
     "metadata": {},
     "output_type": "execute_result"
    }
   ],
   "source": [
    "df3['price_per_sqft']=df3['price']*100000/df3['area']\n",
    "df3.head()"
   ]
  },
  {
   "cell_type": "code",
   "execution_count": 75,
   "id": "5f2d4244-bbd2-4af0-8f59-32d01bf9b2e2",
   "metadata": {},
   "outputs": [
    {
     "data": {
      "text/plain": [
       "228"
      ]
     },
     "execution_count": 75,
     "metadata": {},
     "output_type": "execute_result"
    }
   ],
   "source": [
    "len(df3.region.unique())"
   ]
  },
  {
   "cell_type": "code",
   "execution_count": 77,
   "id": "d0cb25de-96ae-49dc-bbec-e2f1ef53b2ee",
   "metadata": {},
   "outputs": [
    {
     "data": {
      "text/plain": [
       "9782"
      ]
     },
     "execution_count": 77,
     "metadata": {},
     "output_type": "execute_result"
    }
   ],
   "source": [
    "len(df3.locality.unique())"
   ]
  },
  {
   "cell_type": "code",
   "execution_count": 79,
   "id": "c817569a-c4e1-4978-bb9a-cef34cb16918",
   "metadata": {},
   "outputs": [
    {
     "data": {
      "text/plain": [
       "count     76038.000000\n",
       "mean      15118.812074\n",
       "std        9332.899565\n",
       "min         646.766169\n",
       "25%        8571.428571\n",
       "50%       13000.000000\n",
       "75%       19496.115827\n",
       "max      182307.692308\n",
       "Name: price_per_sqft, dtype: float64"
      ]
     },
     "execution_count": 79,
     "metadata": {},
     "output_type": "execute_result"
    }
   ],
   "source": [
    "df3_stats = df3['price_per_sqft'].describe()\n",
    "df3_stats"
   ]
  },
  {
   "cell_type": "code",
   "execution_count": 81,
   "id": "6008b575-97d2-4743-9560-a0e0ec9acc64",
   "metadata": {},
   "outputs": [
    {
     "data": {
      "text/plain": [
       "region\n",
       "Thane West         14868\n",
       "Mira Road East      9902\n",
       "Dombivali           3041\n",
       "Kandivali East      2568\n",
       "Kharghar            2362\n",
       "                   ...  \n",
       "Police Colony          1\n",
       "GTB Nagar              1\n",
       "Bandra                 1\n",
       "Sector 14 Vashi        1\n",
       "Goregaon               1\n",
       "Name: count, Length: 228, dtype: int64"
      ]
     },
     "execution_count": 81,
     "metadata": {},
     "output_type": "execute_result"
    }
   ],
   "source": [
    "df3.region = df3.region.apply(lambda x: x.strip())\n",
    "region_stats = df3['region'].value_counts(ascending=False)\n",
    "region_stats"
   ]
  },
  {
   "cell_type": "code",
   "execution_count": 83,
   "id": "eaf3a2ff-9f02-43d6-9566-d541f1f22a0d",
   "metadata": {},
   "outputs": [
    {
     "data": {
      "text/plain": [
       "114"
      ]
     },
     "execution_count": 83,
     "metadata": {},
     "output_type": "execute_result"
    }
   ],
   "source": [
    "len(region_stats[region_stats<=10])"
   ]
  },
  {
   "cell_type": "code",
   "execution_count": 85,
   "id": "b40439a4-3437-4986-8dc9-22bd10534eda",
   "metadata": {},
   "outputs": [
    {
     "data": {
      "text/plain": [
       "region\n",
       "Cuffe Parade               9\n",
       "kasaradavali thane west    9\n",
       "Maneklal Estate            9\n",
       "Dahisar West               9\n",
       "Manpada                    8\n",
       "                          ..\n",
       "Police Colony              1\n",
       "GTB Nagar                  1\n",
       "Bandra                     1\n",
       "Sector 14 Vashi            1\n",
       "Goregaon                   1\n",
       "Name: count, Length: 110, dtype: int64"
      ]
     },
     "execution_count": 85,
     "metadata": {},
     "output_type": "execute_result"
    }
   ],
   "source": [
    "regionless10=region_stats[region_stats<10]\n",
    "regionless10"
   ]
  },
  {
   "cell_type": "code",
   "execution_count": 87,
   "id": "ebdf8679-d849-46a9-95b3-9e355ebf7026",
   "metadata": {},
   "outputs": [
    {
     "data": {
      "text/plain": [
       "228"
      ]
     },
     "execution_count": 87,
     "metadata": {},
     "output_type": "execute_result"
    }
   ],
   "source": [
    "len(df3.region.unique())"
   ]
  },
  {
   "cell_type": "code",
   "execution_count": 89,
   "id": "b1a754c3-0ba3-42be-ac80-ca485de5e717",
   "metadata": {},
   "outputs": [
    {
     "data": {
      "text/plain": [
       "119"
      ]
     },
     "execution_count": 89,
     "metadata": {},
     "output_type": "execute_result"
    }
   ],
   "source": [
    "df3.region=df3.region.apply(lambda x: 'other' if x in regionless10 else x)\n",
    "len(df3.region.unique())\n"
   ]
  },
  {
   "cell_type": "code",
   "execution_count": 90,
   "id": "2f4ca5a9-1dc3-4c6d-bdd8-4edf9095c333",
   "metadata": {},
   "outputs": [
    {
     "data": {
      "text/html": [
       "<div>\n",
       "<style scoped>\n",
       "    .dataframe tbody tr th:only-of-type {\n",
       "        vertical-align: middle;\n",
       "    }\n",
       "\n",
       "    .dataframe tbody tr th {\n",
       "        vertical-align: top;\n",
       "    }\n",
       "\n",
       "    .dataframe thead th {\n",
       "        text-align: right;\n",
       "    }\n",
       "</style>\n",
       "<table border=\"1\" class=\"dataframe\">\n",
       "  <thead>\n",
       "    <tr style=\"text-align: right;\">\n",
       "      <th></th>\n",
       "      <th>bhk</th>\n",
       "      <th>type</th>\n",
       "      <th>locality</th>\n",
       "      <th>area</th>\n",
       "      <th>price</th>\n",
       "      <th>price_unit</th>\n",
       "      <th>region</th>\n",
       "      <th>price_per_sqft</th>\n",
       "    </tr>\n",
       "  </thead>\n",
       "  <tbody>\n",
       "    <tr>\n",
       "      <th>0</th>\n",
       "      <td>3</td>\n",
       "      <td>Apartment</td>\n",
       "      <td>Lak And Hanware The Residency Tower</td>\n",
       "      <td>685</td>\n",
       "      <td>250.00</td>\n",
       "      <td>L</td>\n",
       "      <td>Andheri West</td>\n",
       "      <td>36496.350365</td>\n",
       "    </tr>\n",
       "    <tr>\n",
       "      <th>1</th>\n",
       "      <td>2</td>\n",
       "      <td>Apartment</td>\n",
       "      <td>Radheya Sai Enclave Building No 2</td>\n",
       "      <td>640</td>\n",
       "      <td>52.51</td>\n",
       "      <td>L</td>\n",
       "      <td>Naigaon East</td>\n",
       "      <td>8204.687500</td>\n",
       "    </tr>\n",
       "    <tr>\n",
       "      <th>2</th>\n",
       "      <td>2</td>\n",
       "      <td>Apartment</td>\n",
       "      <td>Romell Serene</td>\n",
       "      <td>610</td>\n",
       "      <td>173.00</td>\n",
       "      <td>L</td>\n",
       "      <td>Borivali West</td>\n",
       "      <td>28360.655738</td>\n",
       "    </tr>\n",
       "    <tr>\n",
       "      <th>3</th>\n",
       "      <td>2</td>\n",
       "      <td>Apartment</td>\n",
       "      <td>Soundlines Codename Urban Rainforest</td>\n",
       "      <td>876</td>\n",
       "      <td>59.98</td>\n",
       "      <td>L</td>\n",
       "      <td>Panvel</td>\n",
       "      <td>6847.031963</td>\n",
       "    </tr>\n",
       "    <tr>\n",
       "      <th>4</th>\n",
       "      <td>2</td>\n",
       "      <td>Apartment</td>\n",
       "      <td>Origin Oriana</td>\n",
       "      <td>659</td>\n",
       "      <td>94.11</td>\n",
       "      <td>L</td>\n",
       "      <td>Mira Road East</td>\n",
       "      <td>14280.728376</td>\n",
       "    </tr>\n",
       "    <tr>\n",
       "      <th>5</th>\n",
       "      <td>2</td>\n",
       "      <td>Apartment</td>\n",
       "      <td>Bhoomi Simana Wing A Phase 1</td>\n",
       "      <td>826</td>\n",
       "      <td>330.00</td>\n",
       "      <td>L</td>\n",
       "      <td>Parel</td>\n",
       "      <td>39951.573850</td>\n",
       "    </tr>\n",
       "    <tr>\n",
       "      <th>6</th>\n",
       "      <td>5</td>\n",
       "      <td>Villa</td>\n",
       "      <td>Agami Estancia</td>\n",
       "      <td>2921</td>\n",
       "      <td>199.00</td>\n",
       "      <td>L</td>\n",
       "      <td>Boisar</td>\n",
       "      <td>6812.735365</td>\n",
       "    </tr>\n",
       "    <tr>\n",
       "      <th>7</th>\n",
       "      <td>3</td>\n",
       "      <td>Apartment</td>\n",
       "      <td>Sanghvi Infenia</td>\n",
       "      <td>778</td>\n",
       "      <td>289.00</td>\n",
       "      <td>L</td>\n",
       "      <td>Santacruz East</td>\n",
       "      <td>37146.529563</td>\n",
       "    </tr>\n",
       "    <tr>\n",
       "      <th>8</th>\n",
       "      <td>1</td>\n",
       "      <td>Apartment</td>\n",
       "      <td>Shubh Shreeji Heights</td>\n",
       "      <td>396</td>\n",
       "      <td>29.84</td>\n",
       "      <td>L</td>\n",
       "      <td>Badlapur East</td>\n",
       "      <td>7535.353535</td>\n",
       "    </tr>\n",
       "    <tr>\n",
       "      <th>9</th>\n",
       "      <td>2</td>\n",
       "      <td>Apartment</td>\n",
       "      <td>Aplite Greenstone Heritage</td>\n",
       "      <td>671</td>\n",
       "      <td>272.00</td>\n",
       "      <td>L</td>\n",
       "      <td>other</td>\n",
       "      <td>40536.512668</td>\n",
       "    </tr>\n",
       "  </tbody>\n",
       "</table>\n",
       "</div>"
      ],
      "text/plain": [
       "   bhk       type                              locality  area   price  \\\n",
       "0    3  Apartment   Lak And Hanware The Residency Tower   685  250.00   \n",
       "1    2  Apartment     Radheya Sai Enclave Building No 2   640   52.51   \n",
       "2    2  Apartment                         Romell Serene   610  173.00   \n",
       "3    2  Apartment  Soundlines Codename Urban Rainforest   876   59.98   \n",
       "4    2  Apartment                         Origin Oriana   659   94.11   \n",
       "5    2  Apartment          Bhoomi Simana Wing A Phase 1   826  330.00   \n",
       "6    5      Villa                        Agami Estancia  2921  199.00   \n",
       "7    3  Apartment                       Sanghvi Infenia   778  289.00   \n",
       "8    1  Apartment                 Shubh Shreeji Heights   396   29.84   \n",
       "9    2  Apartment            Aplite Greenstone Heritage   671  272.00   \n",
       "\n",
       "  price_unit          region  price_per_sqft  \n",
       "0          L    Andheri West    36496.350365  \n",
       "1          L    Naigaon East     8204.687500  \n",
       "2          L   Borivali West    28360.655738  \n",
       "3          L          Panvel     6847.031963  \n",
       "4          L  Mira Road East    14280.728376  \n",
       "5          L           Parel    39951.573850  \n",
       "6          L          Boisar     6812.735365  \n",
       "7          L  Santacruz East    37146.529563  \n",
       "8          L   Badlapur East     7535.353535  \n",
       "9          L           other    40536.512668  "
      ]
     },
     "execution_count": 90,
     "metadata": {},
     "output_type": "execute_result"
    }
   ],
   "source": [
    "df3.head(10)"
   ]
  },
  {
   "cell_type": "code",
   "execution_count": 93,
   "id": "674a0a38-5b3b-4257-9397-7c609f3fa0e2",
   "metadata": {},
   "outputs": [
    {
     "data": {
      "text/html": [
       "<div>\n",
       "<style scoped>\n",
       "    .dataframe tbody tr th:only-of-type {\n",
       "        vertical-align: middle;\n",
       "    }\n",
       "\n",
       "    .dataframe tbody tr th {\n",
       "        vertical-align: top;\n",
       "    }\n",
       "\n",
       "    .dataframe thead th {\n",
       "        text-align: right;\n",
       "    }\n",
       "</style>\n",
       "<table border=\"1\" class=\"dataframe\">\n",
       "  <thead>\n",
       "    <tr style=\"text-align: right;\">\n",
       "      <th></th>\n",
       "      <th>bhk</th>\n",
       "      <th>type</th>\n",
       "      <th>locality</th>\n",
       "      <th>area</th>\n",
       "      <th>price</th>\n",
       "      <th>price_unit</th>\n",
       "      <th>region</th>\n",
       "      <th>price_per_sqft</th>\n",
       "    </tr>\n",
       "  </thead>\n",
       "  <tbody>\n",
       "    <tr>\n",
       "      <th>0</th>\n",
       "      <td>3</td>\n",
       "      <td>Apartment</td>\n",
       "      <td>Lak And Hanware The Residency Tower</td>\n",
       "      <td>685</td>\n",
       "      <td>250.0</td>\n",
       "      <td>L</td>\n",
       "      <td>Andheri West</td>\n",
       "      <td>36496.350365</td>\n",
       "    </tr>\n",
       "    <tr>\n",
       "      <th>49</th>\n",
       "      <td>3</td>\n",
       "      <td>Apartment</td>\n",
       "      <td>Lak And Hanware The Residency Tower</td>\n",
       "      <td>685</td>\n",
       "      <td>250.0</td>\n",
       "      <td>L</td>\n",
       "      <td>Andheri West</td>\n",
       "      <td>36496.350365</td>\n",
       "    </tr>\n",
       "    <tr>\n",
       "      <th>131</th>\n",
       "      <td>2</td>\n",
       "      <td>Apartment</td>\n",
       "      <td>Shubh Shreeji Heights</td>\n",
       "      <td>486</td>\n",
       "      <td>36.0</td>\n",
       "      <td>L</td>\n",
       "      <td>Badlapur East</td>\n",
       "      <td>7407.407407</td>\n",
       "    </tr>\n",
       "    <tr>\n",
       "      <th>132</th>\n",
       "      <td>2</td>\n",
       "      <td>Apartment</td>\n",
       "      <td>Shubh Shreeji Heights</td>\n",
       "      <td>486</td>\n",
       "      <td>36.0</td>\n",
       "      <td>L</td>\n",
       "      <td>Badlapur East</td>\n",
       "      <td>7407.407407</td>\n",
       "    </tr>\n",
       "    <tr>\n",
       "      <th>340</th>\n",
       "      <td>2</td>\n",
       "      <td>Apartment</td>\n",
       "      <td>HG Sai Tulip</td>\n",
       "      <td>500</td>\n",
       "      <td>10.0</td>\n",
       "      <td>L</td>\n",
       "      <td>Taloja</td>\n",
       "      <td>2000.000000</td>\n",
       "    </tr>\n",
       "  </tbody>\n",
       "</table>\n",
       "</div>"
      ],
      "text/plain": [
       "     bhk       type                             locality  area  price  \\\n",
       "0      3  Apartment  Lak And Hanware The Residency Tower   685  250.0   \n",
       "49     3  Apartment  Lak And Hanware The Residency Tower   685  250.0   \n",
       "131    2  Apartment                Shubh Shreeji Heights   486   36.0   \n",
       "132    2  Apartment                Shubh Shreeji Heights   486   36.0   \n",
       "340    2  Apartment                         HG Sai Tulip   500   10.0   \n",
       "\n",
       "    price_unit         region  price_per_sqft  \n",
       "0            L   Andheri West    36496.350365  \n",
       "49           L   Andheri West    36496.350365  \n",
       "131          L  Badlapur East     7407.407407  \n",
       "132          L  Badlapur East     7407.407407  \n",
       "340          L         Taloja     2000.000000  "
      ]
     },
     "execution_count": 93,
     "metadata": {},
     "output_type": "execute_result"
    }
   ],
   "source": [
    "df3[df3.area/df3.bhk<=250].head()"
   ]
  },
  {
   "cell_type": "code",
   "execution_count": 95,
   "id": "c2fb0b4b-f30f-47b7-89ae-a156e269edba",
   "metadata": {},
   "outputs": [
    {
     "data": {
      "text/plain": [
       "(76038, 8)"
      ]
     },
     "execution_count": 95,
     "metadata": {},
     "output_type": "execute_result"
    }
   ],
   "source": [
    "df3.shape"
   ]
  },
  {
   "cell_type": "code",
   "execution_count": 97,
   "id": "ee514303-9a4d-41a8-a1f6-047b1a28f4af",
   "metadata": {},
   "outputs": [
    {
     "data": {
      "text/plain": [
       "(74983, 8)"
      ]
     },
     "execution_count": 97,
     "metadata": {},
     "output_type": "execute_result"
    }
   ],
   "source": [
    "df4= df3[~(df3.area/df3.bhk<=250)]\n",
    "df4.shape"
   ]
  },
  {
   "cell_type": "code",
   "execution_count": 99,
   "id": "e39a70ab-dc3c-488c-b605-abacd2e6fe3a",
   "metadata": {},
   "outputs": [
    {
     "data": {
      "text/plain": [
       "count     74983.000000\n",
       "mean      15092.531226\n",
       "std        9346.387929\n",
       "min         646.766169\n",
       "25%        8548.547425\n",
       "50%       12947.368421\n",
       "75%       19445.644867\n",
       "max      182307.692308\n",
       "Name: price_per_sqft, dtype: float64"
      ]
     },
     "execution_count": 99,
     "metadata": {},
     "output_type": "execute_result"
    }
   ],
   "source": [
    "df4.price_per_sqft.describe()"
   ]
  },
  {
   "cell_type": "code",
   "execution_count": 101,
   "id": "2138317a-213e-463c-a7b4-9b90639df7ed",
   "metadata": {},
   "outputs": [
    {
     "data": {
      "text/plain": [
       "(56390, 8)"
      ]
     },
     "execution_count": 101,
     "metadata": {},
     "output_type": "execute_result"
    }
   ],
   "source": [
    "def remove_pps_outliers(df):\n",
    "    df_out = pd.DataFrame()\n",
    "    for key, subdf in df.groupby('region'):\n",
    "        m = np.mean(subdf.price_per_sqft)\n",
    "        st = np.std(subdf.price_per_sqft)\n",
    "        reduced_df = subdf[(subdf.price_per_sqft>(m-st)) & (subdf.price_per_sqft<=(m+st))]\n",
    "        df_out = pd.concat([df_out,reduced_df],ignore_index=True)\n",
    "    return df_out\n",
    "df5 = remove_pps_outliers(df4)\n",
    "df5.shape"
   ]
  },
  {
   "cell_type": "code",
   "execution_count": 102,
   "id": "efff55b5-2455-4825-a684-115beff5adb1",
   "metadata": {},
   "outputs": [
    {
     "ename": "NameError",
     "evalue": "name 'matplotlib' is not defined",
     "output_type": "error",
     "traceback": [
      "\u001b[1;31m---------------------------------------------------------------------------\u001b[0m",
      "\u001b[1;31mNameError\u001b[0m                                 Traceback (most recent call last)",
      "Cell \u001b[1;32mIn[102], line 18\u001b[0m\n\u001b[0;32m     15\u001b[0m     plt\u001b[38;5;241m.\u001b[39mlegend()\n\u001b[0;32m     16\u001b[0m     plt\u001b[38;5;241m.\u001b[39mshow()\n\u001b[1;32m---> 18\u001b[0m plot_scatter_chart(df5, \u001b[38;5;124m\"\u001b[39m\u001b[38;5;124mThane West\u001b[39m\u001b[38;5;124m\"\u001b[39m)\n",
      "Cell \u001b[1;32mIn[102], line 4\u001b[0m, in \u001b[0;36mplot_scatter_chart\u001b[1;34m(df, region)\u001b[0m\n\u001b[0;32m      2\u001b[0m bhk2 \u001b[38;5;241m=\u001b[39m df[(df\u001b[38;5;241m.\u001b[39mregion \u001b[38;5;241m==\u001b[39m region) \u001b[38;5;241m&\u001b[39m (df\u001b[38;5;241m.\u001b[39mbhk \u001b[38;5;241m==\u001b[39m \u001b[38;5;241m2\u001b[39m)]\n\u001b[0;32m      3\u001b[0m bhk3 \u001b[38;5;241m=\u001b[39m df[(df\u001b[38;5;241m.\u001b[39mregion \u001b[38;5;241m==\u001b[39m region) \u001b[38;5;241m&\u001b[39m (df\u001b[38;5;241m.\u001b[39mbhk \u001b[38;5;241m==\u001b[39m \u001b[38;5;241m3\u001b[39m)]\n\u001b[1;32m----> 4\u001b[0m matplotlib\u001b[38;5;241m.\u001b[39mrcParams[\u001b[38;5;124m'\u001b[39m\u001b[38;5;124mfigure.figsize\u001b[39m\u001b[38;5;124m'\u001b[39m] \u001b[38;5;241m=\u001b[39m (\u001b[38;5;241m15\u001b[39m, \u001b[38;5;241m10\u001b[39m)\n\u001b[0;32m      6\u001b[0m \u001b[38;5;66;03m# Plot the first scatter with the label\u001b[39;00m\n\u001b[0;32m      7\u001b[0m plt\u001b[38;5;241m.\u001b[39mscatter(bhk2\u001b[38;5;241m.\u001b[39marea, bhk2\u001b[38;5;241m.\u001b[39mprice, color\u001b[38;5;241m=\u001b[39m\u001b[38;5;124m'\u001b[39m\u001b[38;5;124mblue\u001b[39m\u001b[38;5;124m'\u001b[39m, label\u001b[38;5;241m=\u001b[39m\u001b[38;5;124m'\u001b[39m\u001b[38;5;124m2 BHK\u001b[39m\u001b[38;5;124m'\u001b[39m, s\u001b[38;5;241m=\u001b[39m\u001b[38;5;241m50\u001b[39m)\n",
      "\u001b[1;31mNameError\u001b[0m: name 'matplotlib' is not defined"
     ]
    }
   ],
   "source": [
    "def plot_scatter_chart(df, region):\n",
    "    bhk2 = df[(df.region == region) & (df.bhk == 2)]\n",
    "    bhk3 = df[(df.region == region) & (df.bhk == 3)]\n",
    "    matplotlib.rcParams['figure.figsize'] = (15, 10)\n",
    "    \n",
    "    # Plot the first scatter with the label\n",
    "    plt.scatter(bhk2.area, bhk2.price, color='blue', label='2 BHK', s=50)\n",
    "    plt.scatter(bhk3.area, bhk3.price, marker='+', color='green', label='3 BHK', s=50)\n",
    "    \n",
    "    plt.xlabel(\"Total Square Feet Area\")\n",
    "    plt.ylabel(\"Price (Lakh Indian Rupees)\")\n",
    "    plt.title(region)\n",
    "    \n",
    "    # Display the legend only once\n",
    "    plt.legend()\n",
    "    plt.show()\n",
    "\n",
    "plot_scatter_chart(df5, \"Thane West\")\n",
    "\n"
   ]
  },
  {
   "cell_type": "code",
   "execution_count": 104,
   "id": "1ea7828f-27c7-4bc9-aeed-8776c9705c89",
   "metadata": {},
   "outputs": [
    {
     "ename": "NameError",
     "evalue": "name 'matplotlib' is not defined",
     "output_type": "error",
     "traceback": [
      "\u001b[1;31m---------------------------------------------------------------------------\u001b[0m",
      "\u001b[1;31mNameError\u001b[0m                                 Traceback (most recent call last)",
      "Cell \u001b[1;32mIn[104], line 1\u001b[0m\n\u001b[1;32m----> 1\u001b[0m plot_scatter_chart(df5,\u001b[38;5;124m\"\u001b[39m\u001b[38;5;124mDombivali\u001b[39m\u001b[38;5;124m\"\u001b[39m)\n\u001b[0;32m      2\u001b[0m plt\u001b[38;5;241m.\u001b[39mshow()\n",
      "Cell \u001b[1;32mIn[102], line 4\u001b[0m, in \u001b[0;36mplot_scatter_chart\u001b[1;34m(df, region)\u001b[0m\n\u001b[0;32m      2\u001b[0m bhk2 \u001b[38;5;241m=\u001b[39m df[(df\u001b[38;5;241m.\u001b[39mregion \u001b[38;5;241m==\u001b[39m region) \u001b[38;5;241m&\u001b[39m (df\u001b[38;5;241m.\u001b[39mbhk \u001b[38;5;241m==\u001b[39m \u001b[38;5;241m2\u001b[39m)]\n\u001b[0;32m      3\u001b[0m bhk3 \u001b[38;5;241m=\u001b[39m df[(df\u001b[38;5;241m.\u001b[39mregion \u001b[38;5;241m==\u001b[39m region) \u001b[38;5;241m&\u001b[39m (df\u001b[38;5;241m.\u001b[39mbhk \u001b[38;5;241m==\u001b[39m \u001b[38;5;241m3\u001b[39m)]\n\u001b[1;32m----> 4\u001b[0m matplotlib\u001b[38;5;241m.\u001b[39mrcParams[\u001b[38;5;124m'\u001b[39m\u001b[38;5;124mfigure.figsize\u001b[39m\u001b[38;5;124m'\u001b[39m] \u001b[38;5;241m=\u001b[39m (\u001b[38;5;241m15\u001b[39m, \u001b[38;5;241m10\u001b[39m)\n\u001b[0;32m      6\u001b[0m \u001b[38;5;66;03m# Plot the first scatter with the label\u001b[39;00m\n\u001b[0;32m      7\u001b[0m plt\u001b[38;5;241m.\u001b[39mscatter(bhk2\u001b[38;5;241m.\u001b[39marea, bhk2\u001b[38;5;241m.\u001b[39mprice, color\u001b[38;5;241m=\u001b[39m\u001b[38;5;124m'\u001b[39m\u001b[38;5;124mblue\u001b[39m\u001b[38;5;124m'\u001b[39m, label\u001b[38;5;241m=\u001b[39m\u001b[38;5;124m'\u001b[39m\u001b[38;5;124m2 BHK\u001b[39m\u001b[38;5;124m'\u001b[39m, s\u001b[38;5;241m=\u001b[39m\u001b[38;5;241m50\u001b[39m)\n",
      "\u001b[1;31mNameError\u001b[0m: name 'matplotlib' is not defined"
     ]
    }
   ],
   "source": [
    "plot_scatter_chart(df5,\"Dombivali\")\n",
    "plt.show()"
   ]
  },
  {
   "cell_type": "code",
   "execution_count": 106,
   "id": "3ad324fc-fb1c-4be9-92e9-cdd7db32edc8",
   "metadata": {},
   "outputs": [
    {
     "data": {
      "text/html": [
       "<div>\n",
       "<style scoped>\n",
       "    .dataframe tbody tr th:only-of-type {\n",
       "        vertical-align: middle;\n",
       "    }\n",
       "\n",
       "    .dataframe tbody tr th {\n",
       "        vertical-align: top;\n",
       "    }\n",
       "\n",
       "    .dataframe thead th {\n",
       "        text-align: right;\n",
       "    }\n",
       "</style>\n",
       "<table border=\"1\" class=\"dataframe\">\n",
       "  <thead>\n",
       "    <tr style=\"text-align: right;\">\n",
       "      <th></th>\n",
       "      <th>bhk</th>\n",
       "      <th>area</th>\n",
       "      <th>price</th>\n",
       "      <th>price_per_sqft</th>\n",
       "    </tr>\n",
       "  </thead>\n",
       "  <tbody>\n",
       "    <tr>\n",
       "      <th>count</th>\n",
       "      <td>56390.000000</td>\n",
       "      <td>56390.000000</td>\n",
       "      <td>56390.000000</td>\n",
       "      <td>56390.000000</td>\n",
       "    </tr>\n",
       "    <tr>\n",
       "      <th>mean</th>\n",
       "      <td>1.995194</td>\n",
       "      <td>1037.880653</td>\n",
       "      <td>158.021767</td>\n",
       "      <td>14233.745597</td>\n",
       "    </tr>\n",
       "    <tr>\n",
       "      <th>std</th>\n",
       "      <td>0.903585</td>\n",
       "      <td>641.371800</td>\n",
       "      <td>180.231997</td>\n",
       "      <td>8083.194716</td>\n",
       "    </tr>\n",
       "    <tr>\n",
       "      <th>min</th>\n",
       "      <td>1.000000</td>\n",
       "      <td>251.000000</td>\n",
       "      <td>9.000000</td>\n",
       "      <td>2416.666667</td>\n",
       "    </tr>\n",
       "    <tr>\n",
       "      <th>25%</th>\n",
       "      <td>1.000000</td>\n",
       "      <td>654.000000</td>\n",
       "      <td>65.000000</td>\n",
       "      <td>8356.395628</td>\n",
       "    </tr>\n",
       "    <tr>\n",
       "      <th>50%</th>\n",
       "      <td>2.000000</td>\n",
       "      <td>900.000000</td>\n",
       "      <td>110.000000</td>\n",
       "      <td>12380.952381</td>\n",
       "    </tr>\n",
       "    <tr>\n",
       "      <th>75%</th>\n",
       "      <td>3.000000</td>\n",
       "      <td>1200.000000</td>\n",
       "      <td>190.000000</td>\n",
       "      <td>18333.333333</td>\n",
       "    </tr>\n",
       "    <tr>\n",
       "      <th>max</th>\n",
       "      <td>10.000000</td>\n",
       "      <td>16000.000000</td>\n",
       "      <td>5555.000000</td>\n",
       "      <td>67307.692308</td>\n",
       "    </tr>\n",
       "  </tbody>\n",
       "</table>\n",
       "</div>"
      ],
      "text/plain": [
       "                bhk          area         price  price_per_sqft\n",
       "count  56390.000000  56390.000000  56390.000000    56390.000000\n",
       "mean       1.995194   1037.880653    158.021767    14233.745597\n",
       "std        0.903585    641.371800    180.231997     8083.194716\n",
       "min        1.000000    251.000000      9.000000     2416.666667\n",
       "25%        1.000000    654.000000     65.000000     8356.395628\n",
       "50%        2.000000    900.000000    110.000000    12380.952381\n",
       "75%        3.000000   1200.000000    190.000000    18333.333333\n",
       "max       10.000000  16000.000000   5555.000000    67307.692308"
      ]
     },
     "execution_count": 106,
     "metadata": {},
     "output_type": "execute_result"
    }
   ],
   "source": [
    "df5.describe()"
   ]
  },
  {
   "cell_type": "code",
   "execution_count": 108,
   "id": "c54e9d7f-4b21-42e8-afc1-b70fa6c26b74",
   "metadata": {},
   "outputs": [
    {
     "data": {
      "text/plain": [
       "(38668, 8)"
      ]
     },
     "execution_count": 108,
     "metadata": {},
     "output_type": "execute_result"
    }
   ],
   "source": [
    "def remove_bhk_outliers(df):\n",
    "    exclude_indices = np.array([])\n",
    "    for region, region_df in df.groupby('region'):\n",
    "        bhk_stats = {}\n",
    "        for bhk, bhk_df in region_df.groupby('bhk'):\n",
    "            bhk_stats[bhk] = {\n",
    "                'mean': np.mean(bhk_df.price_per_sqft),\n",
    "                'std': np.std(bhk_df.price_per_sqft),\n",
    "                'count': bhk_df.shape[0]\n",
    "            }\n",
    "        for bhk, bhk_df in region_df.groupby('bhk'):\n",
    "            stats = bhk_stats.get(bhk-1)\n",
    "            if stats and stats['count']>5:\n",
    "                exclude_indices = np.append(exclude_indices, bhk_df[bhk_df.price_per_sqft<(stats['mean'])].index.values)\n",
    "    return df.drop(exclude_indices,axis='index')\n",
    "df6 = remove_bhk_outliers(df5)\n",
    "\n",
    "df6.shape"
   ]
  },
  {
   "cell_type": "code",
   "execution_count": 109,
   "id": "69961b5c-ac56-42bc-b50b-fed28bbb1908",
   "metadata": {},
   "outputs": [
    {
     "ename": "NameError",
     "evalue": "name 'matplotlib' is not defined",
     "output_type": "error",
     "traceback": [
      "\u001b[1;31m---------------------------------------------------------------------------\u001b[0m",
      "\u001b[1;31mNameError\u001b[0m                                 Traceback (most recent call last)",
      "Cell \u001b[1;32mIn[109], line 1\u001b[0m\n\u001b[1;32m----> 1\u001b[0m plot_scatter_chart(df6,\u001b[38;5;124m\"\u001b[39m\u001b[38;5;124mDombivali\u001b[39m\u001b[38;5;124m\"\u001b[39m)\n",
      "Cell \u001b[1;32mIn[102], line 4\u001b[0m, in \u001b[0;36mplot_scatter_chart\u001b[1;34m(df, region)\u001b[0m\n\u001b[0;32m      2\u001b[0m bhk2 \u001b[38;5;241m=\u001b[39m df[(df\u001b[38;5;241m.\u001b[39mregion \u001b[38;5;241m==\u001b[39m region) \u001b[38;5;241m&\u001b[39m (df\u001b[38;5;241m.\u001b[39mbhk \u001b[38;5;241m==\u001b[39m \u001b[38;5;241m2\u001b[39m)]\n\u001b[0;32m      3\u001b[0m bhk3 \u001b[38;5;241m=\u001b[39m df[(df\u001b[38;5;241m.\u001b[39mregion \u001b[38;5;241m==\u001b[39m region) \u001b[38;5;241m&\u001b[39m (df\u001b[38;5;241m.\u001b[39mbhk \u001b[38;5;241m==\u001b[39m \u001b[38;5;241m3\u001b[39m)]\n\u001b[1;32m----> 4\u001b[0m matplotlib\u001b[38;5;241m.\u001b[39mrcParams[\u001b[38;5;124m'\u001b[39m\u001b[38;5;124mfigure.figsize\u001b[39m\u001b[38;5;124m'\u001b[39m] \u001b[38;5;241m=\u001b[39m (\u001b[38;5;241m15\u001b[39m, \u001b[38;5;241m10\u001b[39m)\n\u001b[0;32m      6\u001b[0m \u001b[38;5;66;03m# Plot the first scatter with the label\u001b[39;00m\n\u001b[0;32m      7\u001b[0m plt\u001b[38;5;241m.\u001b[39mscatter(bhk2\u001b[38;5;241m.\u001b[39marea, bhk2\u001b[38;5;241m.\u001b[39mprice, color\u001b[38;5;241m=\u001b[39m\u001b[38;5;124m'\u001b[39m\u001b[38;5;124mblue\u001b[39m\u001b[38;5;124m'\u001b[39m, label\u001b[38;5;241m=\u001b[39m\u001b[38;5;124m'\u001b[39m\u001b[38;5;124m2 BHK\u001b[39m\u001b[38;5;124m'\u001b[39m, s\u001b[38;5;241m=\u001b[39m\u001b[38;5;241m50\u001b[39m)\n",
      "\u001b[1;31mNameError\u001b[0m: name 'matplotlib' is not defined"
     ]
    }
   ],
   "source": [
    "plot_scatter_chart(df6,\"Dombivali\")"
   ]
  },
  {
   "cell_type": "code",
   "execution_count": null,
   "id": "50284351-6788-4270-9d97-e353f78d4382",
   "metadata": {},
   "outputs": [],
   "source": [
    "import matplotlib\n",
    "matplotlib.rcParams[\"figure.figsize\"] = (20,10)\n",
    "plt.hist(df6.price_per_sqft,rwidth=0.8)\n",
    "plt.xlabel(\"Price Per Square Feet\")\n",
    "plt.ylabel(\"Count\")\n",
    "plt.show()"
   ]
  },
  {
   "cell_type": "code",
   "execution_count": null,
   "id": "bd6b8e63-4c2d-4570-81b4-1e02784fc284",
   "metadata": {},
   "outputs": [],
   "source": [
    "df6.head()"
   ]
  },
  {
   "cell_type": "code",
   "execution_count": 113,
   "id": "b2da8a25-fb7d-4fa3-a8e4-6b734f8875e8",
   "metadata": {},
   "outputs": [
    {
     "data": {
      "text/plain": [
       "(38668, 8)"
      ]
     },
     "execution_count": 113,
     "metadata": {},
     "output_type": "execute_result"
    }
   ],
   "source": [
    "df6.shape"
   ]
  },
  {
   "cell_type": "code",
   "execution_count": 115,
   "id": "99bf576a-eb2b-4ea3-9bc1-8594c847f16d",
   "metadata": {},
   "outputs": [],
   "source": [
    "df7=df6.drop_duplicates()"
   ]
  },
  {
   "cell_type": "code",
   "execution_count": 117,
   "id": "d8597eab-e766-4775-8dd0-5cf81b21fcab",
   "metadata": {},
   "outputs": [
    {
     "data": {
      "text/plain": [
       "(28541, 8)"
      ]
     },
     "execution_count": 117,
     "metadata": {},
     "output_type": "execute_result"
    }
   ],
   "source": [
    "df7.shape"
   ]
  },
  {
   "cell_type": "code",
   "execution_count": 119,
   "id": "3875747f-32f9-4e38-824b-91012b7cb73c",
   "metadata": {},
   "outputs": [
    {
     "data": {
      "text/plain": [
       "type\n",
       "Apartment            28021\n",
       "Studio Apartment       452\n",
       "Villa                   40\n",
       "Independent House       27\n",
       "Penthouse                1\n",
       "Name: count, dtype: int64"
      ]
     },
     "execution_count": 119,
     "metadata": {},
     "output_type": "execute_result"
    }
   ],
   "source": [
    "df7.loc[:, 'type'] = df7['type'].apply(lambda x: x.strip())\n",
    "type_stats = df7['type'].value_counts(ascending=False)\n",
    "type_stats"
   ]
  },
  {
   "cell_type": "code",
   "execution_count": 121,
   "id": "b2e01d76-2a4b-4f14-9c92-e7a237dba65d",
   "metadata": {},
   "outputs": [],
   "source": [
    "# Assuming your DataFrame is named 'df'\n",
    "df8 = df7[df7['type'].isin(['Apartment', 'Studio Apartment'])]\n"
   ]
  },
  {
   "cell_type": "code",
   "execution_count": 123,
   "id": "d7ccfab6-7d11-4fca-87da-78280642fabb",
   "metadata": {},
   "outputs": [
    {
     "data": {
      "text/plain": [
       "(28473, 8)"
      ]
     },
     "execution_count": 123,
     "metadata": {},
     "output_type": "execute_result"
    }
   ],
   "source": [
    "df8.shape"
   ]
  },
  {
   "cell_type": "code",
   "execution_count": 125,
   "id": "d845c2af-eba0-4640-851d-cbd4c9b32ecd",
   "metadata": {},
   "outputs": [
    {
     "data": {
      "text/html": [
       "<div>\n",
       "<style scoped>\n",
       "    .dataframe tbody tr th:only-of-type {\n",
       "        vertical-align: middle;\n",
       "    }\n",
       "\n",
       "    .dataframe tbody tr th {\n",
       "        vertical-align: top;\n",
       "    }\n",
       "\n",
       "    .dataframe thead th {\n",
       "        text-align: right;\n",
       "    }\n",
       "</style>\n",
       "<table border=\"1\" class=\"dataframe\">\n",
       "  <thead>\n",
       "    <tr style=\"text-align: right;\">\n",
       "      <th></th>\n",
       "      <th>bhk</th>\n",
       "      <th>type</th>\n",
       "      <th>locality</th>\n",
       "      <th>area</th>\n",
       "      <th>price</th>\n",
       "      <th>price_unit</th>\n",
       "      <th>region</th>\n",
       "      <th>price_per_sqft</th>\n",
       "    </tr>\n",
       "  </thead>\n",
       "  <tbody>\n",
       "    <tr>\n",
       "      <th>0</th>\n",
       "      <td>2</td>\n",
       "      <td>Apartment</td>\n",
       "      <td>Grace Grace Fluidic</td>\n",
       "      <td>650</td>\n",
       "      <td>262.0</td>\n",
       "      <td>L</td>\n",
       "      <td>Agripada</td>\n",
       "      <td>40307.692308</td>\n",
       "    </tr>\n",
       "    <tr>\n",
       "      <th>1</th>\n",
       "      <td>1</td>\n",
       "      <td>Apartment</td>\n",
       "      <td>Limra Burj Qadri</td>\n",
       "      <td>803</td>\n",
       "      <td>225.0</td>\n",
       "      <td>L</td>\n",
       "      <td>Agripada</td>\n",
       "      <td>28019.925280</td>\n",
       "    </tr>\n",
       "    <tr>\n",
       "      <th>2</th>\n",
       "      <td>1</td>\n",
       "      <td>Apartment</td>\n",
       "      <td>Hi Rock Kinjal Nine</td>\n",
       "      <td>684</td>\n",
       "      <td>170.0</td>\n",
       "      <td>L</td>\n",
       "      <td>Agripada</td>\n",
       "      <td>24853.801170</td>\n",
       "    </tr>\n",
       "    <tr>\n",
       "      <th>3</th>\n",
       "      <td>1</td>\n",
       "      <td>Apartment</td>\n",
       "      <td>Dudhwala Complex</td>\n",
       "      <td>545</td>\n",
       "      <td>160.0</td>\n",
       "      <td>L</td>\n",
       "      <td>Agripada</td>\n",
       "      <td>29357.798165</td>\n",
       "    </tr>\n",
       "    <tr>\n",
       "      <th>10</th>\n",
       "      <td>4</td>\n",
       "      <td>Apartment</td>\n",
       "      <td>Nathani Heights</td>\n",
       "      <td>3454</td>\n",
       "      <td>1250.0</td>\n",
       "      <td>L</td>\n",
       "      <td>Agripada</td>\n",
       "      <td>36189.924725</td>\n",
       "    </tr>\n",
       "  </tbody>\n",
       "</table>\n",
       "</div>"
      ],
      "text/plain": [
       "    bhk       type             locality  area   price price_unit    region  \\\n",
       "0     2  Apartment  Grace Grace Fluidic   650   262.0          L  Agripada   \n",
       "1     1  Apartment     Limra Burj Qadri   803   225.0          L  Agripada   \n",
       "2     1  Apartment  Hi Rock Kinjal Nine   684   170.0          L  Agripada   \n",
       "3     1  Apartment     Dudhwala Complex   545   160.0          L  Agripada   \n",
       "10    4  Apartment      Nathani Heights  3454  1250.0          L  Agripada   \n",
       "\n",
       "    price_per_sqft  \n",
       "0     40307.692308  \n",
       "1     28019.925280  \n",
       "2     24853.801170  \n",
       "3     29357.798165  \n",
       "10    36189.924725  "
      ]
     },
     "execution_count": 125,
     "metadata": {},
     "output_type": "execute_result"
    }
   ],
   "source": [
    "df8.head()"
   ]
  },
  {
   "cell_type": "code",
   "execution_count": 127,
   "id": "c2634d20-6e4e-44be-9c4d-7935e7969175",
   "metadata": {},
   "outputs": [],
   "source": [
    "df8.to_csv('df8main.csv', index=False)"
   ]
  },
  {
   "cell_type": "code",
   "execution_count": null,
   "id": "fef56f73-2ad3-4ff4-8c8e-2b72d47d9828",
   "metadata": {},
   "outputs": [],
   "source": [
    "dummies=dummies.astype(int)\n",
    "print(dummies)"
   ]
  },
  {
   "cell_type": "code",
   "execution_count": null,
   "id": "3c51acc9-9090-4c07-8a56-c98c92206e5d",
   "metadata": {},
   "outputs": [],
   "source": [
    "df8.head()"
   ]
  },
  {
   "cell_type": "code",
   "execution_count": null,
   "id": "883d120f-4ec8-4cae-81d4-174930b616d4",
   "metadata": {},
   "outputs": [],
   "source": [
    "df9 = pd.concat([df8,dummies.drop('other',axis='columns')],axis='columns')\n",
    "df9.head()"
   ]
  },
  {
   "cell_type": "code",
   "execution_count": null,
   "id": "ed4fa3e5-e210-4f1d-84bd-f9ca4a3a8c2b",
   "metadata": {},
   "outputs": [],
   "source": [
    "df10 = df9.drop('region',axis='columns')\n",
    "df10.head(2)"
   ]
  },
  {
   "cell_type": "code",
   "execution_count": null,
   "id": "9c8821ee-2c0d-441f-b2af-a76456c7ecee",
   "metadata": {},
   "outputs": [],
   "source": [
    "df10.shape\n"
   ]
  },
  {
   "cell_type": "code",
   "execution_count": null,
   "id": "208ec505-b7d4-424b-85d5-b2d81d2f7328",
   "metadata": {},
   "outputs": [],
   "source": [
    "df11=df10.copy()"
   ]
  },
  {
   "cell_type": "code",
   "execution_count": null,
   "id": "50ce80f0-2c7b-4cd0-be88-d83ea30f705e",
   "metadata": {},
   "outputs": [],
   "source": [
    "df11.to_csv(r'C:\\Users\\sidha\\Desktop\\projext\\maindf11.csv')"
   ]
  },
  {
   "cell_type": "code",
   "execution_count": null,
   "id": "600cd4f1-7670-4ebb-b94a-50e146453170",
   "metadata": {},
   "outputs": [],
   "source": [
    "columns_to_drop = ['price', 'type', 'locality','price_unit',\"price_per_sqft\"]\n",
    "X = df10.drop(columns_to_drop, axis=1)\n",
    "X.head(2)"
   ]
  },
  {
   "cell_type": "code",
   "execution_count": null,
   "id": "548e6811-0c5b-4241-b352-509e8027a4cd",
   "metadata": {},
   "outputs": [],
   "source": [
    "y = df10.price\n",
    "y.head(3)"
   ]
  },
  {
   "cell_type": "code",
   "execution_count": null,
   "id": "39b8ae41-d642-4421-a98a-14d8d00c4fef",
   "metadata": {},
   "outputs": [],
   "source": [
    "len(y)"
   ]
  },
  {
   "cell_type": "code",
   "execution_count": null,
   "id": "89704d04-412b-4cb6-842a-9a561238ac62",
   "metadata": {},
   "outputs": [],
   "source": [
    "import seaborn as sns\n",
    "plt.figure(figsize=(15, 6))\n",
    "sns.heatmap(X.corr(),\n",
    "            cmap = 'BrBG',\n",
    "            fmt = '.2f',\n",
    "            linewidths = 10,\n",
    "            annot = True)\n",
    "plt.show()"
   ]
  },
  {
   "cell_type": "code",
   "execution_count": null,
   "id": "3bd18943-708b-41fe-813b-e6fa43128976",
   "metadata": {},
   "outputs": [],
   "source": [
    "from sklearn.model_selection import train_test_split\n",
    "X_train, X_test, y_train, y_test = train_test_split(X,y,test_size=0.2,random_state=10)"
   ]
  },
  {
   "cell_type": "code",
   "execution_count": null,
   "id": "63d284c8-18ec-4dc5-88e1-74d3b8c2cd14",
   "metadata": {},
   "outputs": [],
   "source": [
    "from sklearn.linear_model import LinearRegression\n",
    "lr_clf = LinearRegression()\n",
    "lr_clf.fit(X_train,y_train)\n",
    "lr_clf.score(X_test,y_test)"
   ]
  },
  {
   "cell_type": "code",
   "execution_count": null,
   "id": "7b759176-ca04-4e50-bc47-fe1535855166",
   "metadata": {},
   "outputs": [],
   "source": [
    "from sklearn.model_selection import ShuffleSplit\n",
    "from sklearn.model_selection import cross_val_score\n",
    "\n",
    "cv = ShuffleSplit(n_splits=5, test_size=0.2, random_state=0)\n",
    "\n",
    "cross_val_score(LinearRegression(), X, y, cv=cv)"
   ]
  },
  {
   "cell_type": "code",
   "execution_count": null,
   "id": "ccae1674-c04f-4113-b961-63878902577f",
   "metadata": {},
   "outputs": [],
   "source": []
  },
  {
   "cell_type": "code",
   "execution_count": null,
   "id": "dbb8d063-feec-4778-aa32-1fee4d8c5528",
   "metadata": {
    "scrolled": true
   },
   "outputs": [],
   "source": [
    "from sklearn.model_selection import GridSearchCV\n",
    "\n",
    "from sklearn.linear_model import Lasso\n",
    "from sklearn.tree import DecisionTreeRegressor\n",
    "from sklearn.cluster import KMeans\n",
    "\n",
    "def find_best_model_using_gridsearchcv(X,y):\n",
    "    algos = {\n",
    "        'linear_regression' : {\n",
    "            'model': LinearRegression(),\n",
    "            'params': {\n",
    "                'fit_intercept': [True, False]\n",
    "            }\n",
    "        },\n",
    "        'lasso': {\n",
    "            'model': Lasso(),\n",
    "            'params': {\n",
    "                'alpha': [1,2],\n",
    "                'selection': ['random', 'cyclic']\n",
    "            }\n",
    "        },\n",
    "        'decision_tree': {\n",
    "            'model': DecisionTreeRegressor(),\n",
    "            'params': {\n",
    "                'criterion' : ['mse','friedman_mse'],\n",
    "                'splitter': ['best','random']\n",
    "            }\n",
    "        }\n",
    "    }\n",
    "    scores = []\n",
    "    cv = ShuffleSplit(n_splits=5, test_size=0.2, random_state=0)\n",
    "    for algo_name, config in algos.items():\n",
    "        gs =  GridSearchCV(config['model'], config['params'], cv=cv, return_train_score=False)\n",
    "        gs.fit(X,y)\n",
    "        scores.append({\n",
    "            'model': algo_name,\n",
    "            'best_score': gs.best_score_,\n",
    "            'best_params': gs.best_params_\n",
    "        })\n",
    "\n",
    "    return pd.DataFrame(scores,columns=['model','best_score','best_params'])\n",
    "\n",
    "find_best_model_using_gridsearchcv(X,y)"
   ]
  },
  {
   "cell_type": "code",
   "execution_count": null,
   "id": "0597e77d-9def-4714-bf37-92d4656cd922",
   "metadata": {},
   "outputs": [],
   "source": []
  },
  {
   "cell_type": "code",
   "execution_count": null,
   "id": "7ffa2124-3a3e-49e4-aa73-65d9300b9580",
   "metadata": {},
   "outputs": [],
   "source": [
    "def predict_price(region,area,bhk):    \n",
    "    loc_index = np.where(X.columns==region)[0][0]\n",
    "\n",
    "    x = np.zeros(len(X.columns))\n",
    "    x[0] = area\n",
    "    x[1] = bhk\n",
    "    if loc_index >= 0:\n",
    "        x[loc_index] = 1\n",
    "\n",
    "    return lr_clf.predict([x])[0]"
   ]
  },
  {
   "cell_type": "code",
   "execution_count": null,
   "id": "67498bb5-b8e6-45b5-8c10-e32b4c24f374",
   "metadata": {},
   "outputs": [],
   "source": [
    "\n",
    "X.columns"
   ]
  },
  {
   "cell_type": "code",
   "execution_count": null,
   "id": "2b815f52-a4e8-464d-a286-1202cb81813c",
   "metadata": {},
   "outputs": [],
   "source": [
    "X.head()"
   ]
  },
  {
   "cell_type": "code",
   "execution_count": null,
   "id": "0899731b-1f38-4849-856b-e8662bc82cf0",
   "metadata": {},
   "outputs": [],
   "source": [
    "y.head()"
   ]
  },
  {
   "cell_type": "code",
   "execution_count": null,
   "id": "94aa212b-3dd4-43e3-afc6-10d1a1682ca2",
   "metadata": {},
   "outputs": [],
   "source": [
    "    "
   ]
  },
  {
   "cell_type": "code",
   "execution_count": null,
   "id": "a0dde847-6b68-4d4b-a1ca-457bfb7bcafe",
   "metadata": {},
   "outputs": [],
   "source": []
  }
 ],
 "metadata": {
  "kernelspec": {
   "display_name": "Python 3 (ipykernel)",
   "language": "python",
   "name": "python3"
  },
  "language_info": {
   "codemirror_mode": {
    "name": "ipython",
    "version": 3
   },
   "file_extension": ".py",
   "mimetype": "text/x-python",
   "name": "python",
   "nbconvert_exporter": "python",
   "pygments_lexer": "ipython3",
   "version": "3.11.5"
  }
 },
 "nbformat": 4,
 "nbformat_minor": 5
}
